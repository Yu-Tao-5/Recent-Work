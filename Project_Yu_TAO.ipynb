{
 "cells": [
  {
   "cell_type": "markdown",
   "id": "28ac60fa",
   "metadata": {},
   "source": [
    "## THE 'WORD RATINGS' NOTEBOOK\n",
    "### * Notes of the Concreteness and AoA ratings*"
   ]
  },
  {
   "cell_type": "markdown",
   "id": "7b0a8087",
   "metadata": {
    "toc": true
   },
   "source": [
    "<h1>Table of Contents<span class=\"tocSkip\"></span></h1>\n",
    "<div class=\"toc\"><ul class=\"toc-item\"><li><span><a href=\"#THE-'WORD-RATINGS'-NOTEBOOK\" data-toc-modified-id=\"THE-'WORD-RATINGS'-NOTEBOOK-1\"><span class=\"toc-item-num\">1&nbsp;&nbsp;</span>THE 'WORD RATINGS' NOTEBOOK</a></span><ul class=\"toc-item\"><li><span><a href=\"#*-Notes-of-the-Concreteness-and-AoA-ratings*\" data-toc-modified-id=\"*-Notes-of-the-Concreteness-and-AoA-ratings*-1.1\"><span class=\"toc-item-num\">1.1&nbsp;&nbsp;</span>* Notes of the Concreteness and AoA ratings*</a></span></li></ul></li><li><span><a href=\"#Set-up-the-notebook-and-connect-to-the-data-set\" data-toc-modified-id=\"Set-up-the-notebook-and-connect-to-the-data-set-2\"><span class=\"toc-item-num\">2&nbsp;&nbsp;</span>Set up the notebook and connect to the data set</a></span></li><li><span><a href=\"#Explore-and-analyze-the-1st-dataset\" data-toc-modified-id=\"Explore-and-analyze-the-1st-dataset-3\"><span class=\"toc-item-num\">3&nbsp;&nbsp;</span>Explore and analyze the 1st dataset</a></span><ul class=\"toc-item\"><li><span><a href=\"#Explore-the-column-Word\" data-toc-modified-id=\"Explore-the-column-Word-3.1\"><span class=\"toc-item-num\">3.1&nbsp;&nbsp;</span>Explore the column Word</a></span></li><li><span><a href=\"#Explore-the-column-Conc.M-and-Bigram\" data-toc-modified-id=\"Explore-the-column-Conc.M-and-Bigram-3.2\"><span class=\"toc-item-num\">3.2&nbsp;&nbsp;</span>Explore the column Conc.M and Bigram</a></span></li><li><span><a href=\"#Explore-the-column-Conc.M-and-Conc.SD\" data-toc-modified-id=\"Explore-the-column-Conc.M-and-Conc.SD-3.3\"><span class=\"toc-item-num\">3.3&nbsp;&nbsp;</span>Explore the column Conc.M and Conc.SD</a></span><ul class=\"toc-item\"><li><span><a href=\"#What-is-the-distribution-of-concreteness-ratings-for-the-words-in-the-dataset?\" data-toc-modified-id=\"What-is-the-distribution-of-concreteness-ratings-for-the-words-in-the-dataset?-3.3.1\"><span class=\"toc-item-num\">3.3.1&nbsp;&nbsp;</span>What is the distribution of concreteness ratings for the words in the dataset?</a></span></li></ul></li><li><span><a href=\"#Explore-column-Percent_known\" data-toc-modified-id=\"Explore-column-Percent_known-3.4\"><span class=\"toc-item-num\">3.4&nbsp;&nbsp;</span>Explore column Percent_known</a></span><ul class=\"toc-item\"><li><span><a href=\"#Explore-the-column-Percent_known-itself\" data-toc-modified-id=\"Explore-the-column-Percent_known-itself-3.4.1\"><span class=\"toc-item-num\">3.4.1&nbsp;&nbsp;</span>Explore the column Percent_known itself</a></span></li><li><span><a href=\"#Explore-column-Percent_known-with-Conc.M\" data-toc-modified-id=\"Explore-column-Percent_known-with-Conc.M-3.4.2\"><span class=\"toc-item-num\">3.4.2&nbsp;&nbsp;</span>Explore column Percent_known with Conc.M</a></span></li><li><span><a href=\"#Explore-column-Unknown-with-Conc.M\" data-toc-modified-id=\"Explore-column-Unknown-with-Conc.M-3.4.3\"><span class=\"toc-item-num\">3.4.3&nbsp;&nbsp;</span>Explore column Unknown with Conc.M</a></span></li></ul></li><li><span><a href=\"#Explore-column-&quot;Total&quot;\" data-toc-modified-id=\"Explore-column-&quot;Total&quot;-3.5\"><span class=\"toc-item-num\">3.5&nbsp;&nbsp;</span>Explore column \"Total\"</a></span></li><li><span><a href=\"#Explore-column-&quot;SUBTLEX&quot;\" data-toc-modified-id=\"Explore-column-&quot;SUBTLEX&quot;-3.6\"><span class=\"toc-item-num\">3.6&nbsp;&nbsp;</span>Explore column \"SUBTLEX\"</a></span><ul class=\"toc-item\"><li><span><a href=\"#What-is-the-distribution-of-frequency-count-of-the-words?\" data-toc-modified-id=\"What-is-the-distribution-of-frequency-count-of-the-words?-3.6.1\"><span class=\"toc-item-num\">3.6.1&nbsp;&nbsp;</span>What is the distribution of frequency count of the words?</a></span></li><li><span><a href=\"#Explore-column-&quot;SUBTLEX&quot;-with-'Percent_known'\" data-toc-modified-id=\"Explore-column-&quot;SUBTLEX&quot;-with-'Percent_known'-3.6.2\"><span class=\"toc-item-num\">3.6.2&nbsp;&nbsp;</span>Explore column \"SUBTLEX\" with 'Percent_known'</a></span></li><li><span><a href=\"#Explore-column-&quot;SUBTLEX&quot;-with-Conc.M\" data-toc-modified-id=\"Explore-column-&quot;SUBTLEX&quot;-with-Conc.M-3.6.3\"><span class=\"toc-item-num\">3.6.3&nbsp;&nbsp;</span>Explore column \"SUBTLEX\" with Conc.M</a></span></li></ul></li><li><span><a href=\"#Explore-column-Dom_Pos\" data-toc-modified-id=\"Explore-column-Dom_Pos-3.7\"><span class=\"toc-item-num\">3.7&nbsp;&nbsp;</span>Explore column Dom_Pos</a></span><ul class=\"toc-item\"><li><span><a href=\"#Distribution-of-'Word'-by-'Dom_Pos'\" data-toc-modified-id=\"Distribution-of-'Word'-by-'Dom_Pos'-3.7.1\"><span class=\"toc-item-num\">3.7.1&nbsp;&nbsp;</span>Distribution of 'Word' by 'Dom_Pos'</a></span></li><li><span><a href=\"#Percentage-distribution-of-'Dom_Pos'\" data-toc-modified-id=\"Percentage-distribution-of-'Dom_Pos'-3.7.2\"><span class=\"toc-item-num\">3.7.2&nbsp;&nbsp;</span>Percentage distribution of 'Dom_Pos'</a></span></li><li><span><a href=\"#How-concreteness-ratings-vary-across-different-grammatical-categories?\" data-toc-modified-id=\"How-concreteness-ratings-vary-across-different-grammatical-categories?-3.7.3\"><span class=\"toc-item-num\">3.7.3&nbsp;&nbsp;</span>How concreteness ratings vary across different grammatical categories?</a></span></li><li><span><a href=\"#Explore-column--&quot;Dom_Pos&quot;-with-&quot;SUBTLEX&quot;\" data-toc-modified-id=\"Explore-column--&quot;Dom_Pos&quot;-with-&quot;SUBTLEX&quot;-3.7.4\"><span class=\"toc-item-num\">3.7.4&nbsp;&nbsp;</span>Explore column  \"Dom_Pos\" with \"SUBTLEX\"</a></span></li><li><span><a href=\"#Explore-column-&quot;Dom_Pos&quot;-with-'Percent_known'\" data-toc-modified-id=\"Explore-column-&quot;Dom_Pos&quot;-with-'Percent_known'-3.7.5\"><span class=\"toc-item-num\">3.7.5&nbsp;&nbsp;</span>Explore column \"Dom_Pos\" with 'Percent_known'</a></span></li></ul></li><li><span><a href=\"#To-augment-the-dataset\" data-toc-modified-id=\"To-augment-the-dataset-3.8\"><span class=\"toc-item-num\">3.8&nbsp;&nbsp;</span>To augment the dataset</a></span></li></ul></li><li><span><a href=\"#Explore-and-analyze-the-2nd-dataset\" data-toc-modified-id=\"Explore-and-analyze-the-2nd-dataset-4\"><span class=\"toc-item-num\">4&nbsp;&nbsp;</span>Explore and analyze the 2nd dataset</a></span><ul class=\"toc-item\"><li><span><a href=\"#Explore-the-column-Word\" data-toc-modified-id=\"Explore-the-column-Word-4.1\"><span class=\"toc-item-num\">4.1&nbsp;&nbsp;</span>Explore the column Word</a></span><ul class=\"toc-item\"><li><span><a href=\"#Explore-the-column-Word-itself\" data-toc-modified-id=\"Explore-the-column-Word-itself-4.1.1\"><span class=\"toc-item-num\">4.1.1&nbsp;&nbsp;</span>Explore the column Word itself</a></span></li><li><span><a href=\"#Examine-the-relationship-between-word-Length-and-the-AoA-ratings\" data-toc-modified-id=\"Examine-the-relationship-between-word-Length-and-the-AoA-ratings-4.1.2\"><span class=\"toc-item-num\">4.1.2&nbsp;&nbsp;</span>Examine the relationship between word Length and the AoA ratings</a></span></li></ul></li><li><span><a href=\"#Explore-the-column-OccurTotal\" data-toc-modified-id=\"Explore-the-column-OccurTotal-4.2\"><span class=\"toc-item-num\">4.2&nbsp;&nbsp;</span>Explore the column OccurTotal</a></span><ul class=\"toc-item\"><li><span><a href=\"#Examining-the-distribution-of-word-occurrences\" data-toc-modified-id=\"Examining-the-distribution-of-word-occurrences-4.2.1\"><span class=\"toc-item-num\">4.2.1&nbsp;&nbsp;</span>Examining the distribution of word occurrences</a></span></li><li><span><a href=\"#Examining-the-relationship-between-OccurTotal-and-Rating.Mean\" data-toc-modified-id=\"Examining-the-relationship-between-OccurTotal-and-Rating.Mean-4.2.2\"><span class=\"toc-item-num\">4.2.2&nbsp;&nbsp;</span>Examining the relationship between OccurTotal and Rating.Mean</a></span></li><li><span><a href=\"#Examining-the-relationship-between-OccurTotal-and-OccurNum\" data-toc-modified-id=\"Examining-the-relationship-between-OccurTotal-and-OccurNum-4.2.3\"><span class=\"toc-item-num\">4.2.3&nbsp;&nbsp;</span>Examining the relationship between OccurTotal and OccurNum</a></span></li></ul></li><li><span><a href=\"#Explore-the-column-Rating.Mean-and-Rating.SD\" data-toc-modified-id=\"Explore-the-column-Rating.Mean-and-Rating.SD-4.3\"><span class=\"toc-item-num\">4.3&nbsp;&nbsp;</span>Explore the column Rating.Mean and Rating.SD</a></span></li><li><span><a href=\"#Explore-the-column-Freq_pm\" data-toc-modified-id=\"Explore-the-column-Freq_pm-4.4\"><span class=\"toc-item-num\">4.4&nbsp;&nbsp;</span>Explore the column Freq_pm</a></span><ul class=\"toc-item\"><li><span><a href=\"#Comparing-the-AoA-ratings-for-high-frequency-words-vs.-low-frequency-words-in-the-column-Freq_pm\" data-toc-modified-id=\"Comparing-the-AoA-ratings-for-high-frequency-words-vs.-low-frequency-words-in-the-column-Freq_pm-4.4.1\"><span class=\"toc-item-num\">4.4.1&nbsp;&nbsp;</span>Comparing the AoA ratings for high-frequency words vs. low-frequency words in the column Freq_pm</a></span></li><li><span><a href=\"#Examine-the-relationship-between-word-frequency-and-the-standard-deviation-of-AoA\" data-toc-modified-id=\"Examine-the-relationship-between-word-frequency-and-the-standard-deviation-of-AoA-4.4.2\"><span class=\"toc-item-num\">4.4.2&nbsp;&nbsp;</span>Examine the relationship between word frequency and the standard deviation of AoA</a></span></li></ul></li></ul></li></ul></div>"
   ]
  },
  {
   "cell_type": "markdown",
   "id": "dc79b5bf",
   "metadata": {},
   "source": [
    "This notebook will guide you through the exploration of the Concreteness_ratings_Brysbaert_et_al_BRM.xlsx and AoA_ratings_Kuperman_et_al_BRM.xlsx."
   ]
  },
  {
   "cell_type": "markdown",
   "id": "fb34127f",
   "metadata": {},
   "source": [
    "## Set up the notebook and connect to the data set"
   ]
  },
  {
   "cell_type": "code",
   "execution_count": 2,
   "id": "e44e6081",
   "metadata": {
    "scrolled": true
   },
   "outputs": [],
   "source": [
    "import sys      # import sys module\n",
    "import re       # import re module\n",
    "import pandas as pd     # import pandas module  \n",
    "import numpy as np      # import numpy module\n",
    "import matplotlib.pyplot as plt     # import matplotlib module\n",
    "import seaborn as sns       # import seaborn module\n",
    "import scipy.stats as stats     # import scipy module\n",
    "import statsmodels.api as sm    # import statsmodels module\n",
    "import nltk  # import the Natural Language Toolkit\n",
    "import statsmodels.formula.api as smf    # import statsmodels formula module\n",
    "import statsmodels.stats.multicomp as multi    # import statsmodels multicomp module\n",
    "import statsmodels.stats.anova as anova    # import statsmodels anova module\n",
    "import statsmodels.stats.multitest as multi    # import statsmodels multitest module\n",
    "import statsmodels.stats.libqsturng as libqsturng    # import statsmodels libqsturng module\n",
    "import statsmodels.stats.power as power    # import statsmodels power module\n",
    "import statsmodels.stats.diagnostic as diag    # import statsmodels diagnostic module\n",
    "import statsmodels.stats.outliers_influence as inf    # import statsmodels outliers_influence module\n",
    "import statsmodels.stats.weightstats as weight    # import statsmodels weightstats module\n",
    "import statsmodels.stats.proportion as prop    # import statsmodels proportion module\n",
    "import statsmodels.stats.contingency_tables as table    # import statsmodels contingency_tables module\n",
    "import statsmodels.stats.stattools as stattools    # import statsmodels stattools module "
   ]
  },
  {
   "cell_type": "markdown",
   "id": "47dbbf71",
   "metadata": {},
   "source": [
    "## Explore and analyze the 1st dataset"
   ]
  },
  {
   "cell_type": "code",
   "execution_count": 43,
   "id": "e5782ddb",
   "metadata": {},
   "outputs": [
    {
     "data": {
      "text/html": [
       "<div>\n",
       "<style scoped>\n",
       "    .dataframe tbody tr th:only-of-type {\n",
       "        vertical-align: middle;\n",
       "    }\n",
       "\n",
       "    .dataframe tbody tr th {\n",
       "        vertical-align: top;\n",
       "    }\n",
       "\n",
       "    .dataframe thead th {\n",
       "        text-align: right;\n",
       "    }\n",
       "</style>\n",
       "<table border=\"1\" class=\"dataframe\">\n",
       "  <thead>\n",
       "    <tr style=\"text-align: right;\">\n",
       "      <th></th>\n",
       "      <th>Word</th>\n",
       "      <th>Bigram</th>\n",
       "      <th>Conc.M</th>\n",
       "      <th>Conc.SD</th>\n",
       "      <th>Unknown</th>\n",
       "      <th>Total</th>\n",
       "      <th>Percent_known</th>\n",
       "      <th>SUBTLEX</th>\n",
       "      <th>Dom_Pos</th>\n",
       "    </tr>\n",
       "  </thead>\n",
       "  <tbody>\n",
       "    <tr>\n",
       "      <th>0</th>\n",
       "      <td>roadsweeper</td>\n",
       "      <td>0</td>\n",
       "      <td>4.85</td>\n",
       "      <td>0.37</td>\n",
       "      <td>1</td>\n",
       "      <td>27</td>\n",
       "      <td>0.962963</td>\n",
       "      <td>0</td>\n",
       "      <td>0</td>\n",
       "    </tr>\n",
       "    <tr>\n",
       "      <th>1</th>\n",
       "      <td>traindriver</td>\n",
       "      <td>0</td>\n",
       "      <td>4.54</td>\n",
       "      <td>0.71</td>\n",
       "      <td>3</td>\n",
       "      <td>29</td>\n",
       "      <td>0.896552</td>\n",
       "      <td>0</td>\n",
       "      <td>0</td>\n",
       "    </tr>\n",
       "    <tr>\n",
       "      <th>2</th>\n",
       "      <td>tush</td>\n",
       "      <td>0</td>\n",
       "      <td>4.45</td>\n",
       "      <td>1.01</td>\n",
       "      <td>3</td>\n",
       "      <td>25</td>\n",
       "      <td>0.880000</td>\n",
       "      <td>66</td>\n",
       "      <td>0</td>\n",
       "    </tr>\n",
       "    <tr>\n",
       "      <th>3</th>\n",
       "      <td>hairdress</td>\n",
       "      <td>0</td>\n",
       "      <td>3.93</td>\n",
       "      <td>1.28</td>\n",
       "      <td>0</td>\n",
       "      <td>29</td>\n",
       "      <td>1.000000</td>\n",
       "      <td>1</td>\n",
       "      <td>0</td>\n",
       "    </tr>\n",
       "    <tr>\n",
       "      <th>4</th>\n",
       "      <td>pharmaceutics</td>\n",
       "      <td>0</td>\n",
       "      <td>3.77</td>\n",
       "      <td>1.41</td>\n",
       "      <td>4</td>\n",
       "      <td>26</td>\n",
       "      <td>0.846154</td>\n",
       "      <td>0</td>\n",
       "      <td>0</td>\n",
       "    </tr>\n",
       "  </tbody>\n",
       "</table>\n",
       "</div>"
      ],
      "text/plain": [
       "            Word  Bigram  Conc.M  Conc.SD  Unknown  Total  Percent_known  \\\n",
       "0    roadsweeper       0    4.85     0.37        1     27       0.962963   \n",
       "1    traindriver       0    4.54     0.71        3     29       0.896552   \n",
       "2           tush       0    4.45     1.01        3     25       0.880000   \n",
       "3      hairdress       0    3.93     1.28        0     29       1.000000   \n",
       "4  pharmaceutics       0    3.77     1.41        4     26       0.846154   \n",
       "\n",
       "   SUBTLEX Dom_Pos  \n",
       "0        0       0  \n",
       "1        0       0  \n",
       "2       66       0  \n",
       "3        1       0  \n",
       "4        0       0  "
      ]
     },
     "execution_count": 43,
     "metadata": {},
     "output_type": "execute_result"
    }
   ],
   "source": [
    "# read the data from the xlsx file\n",
    "df = pd.read_excel('Concreteness_ratings_Brysbaert_et_al_BRM.xlsx')\n",
    "df.head() "
   ]
  },
  {
   "cell_type": "markdown",
   "id": "b4f1c6ef",
   "metadata": {},
   "source": [
    "### Explore the column Word"
   ]
  },
  {
   "cell_type": "code",
   "execution_count": 202,
   "id": "c605cc08",
   "metadata": {
    "scrolled": true
   },
   "outputs": [
    {
     "name": "stdout",
     "output_type": "stream",
     "text": [
      "39953\n"
     ]
    }
   ],
   "source": [
    "# find how many different Words are in the 'Word' column.\n",
    "print(df['Word'].nunique())"
   ]
  },
  {
   "cell_type": "markdown",
   "id": "2b331e98",
   "metadata": {},
   "source": [
    "### Explore the column Conc.M and Bigram"
   ]
  },
  {
   "cell_type": "code",
   "execution_count": 74,
   "id": "e3cb179d",
   "metadata": {
    "scrolled": true
   },
   "outputs": [
    {
     "name": "stdout",
     "output_type": "stream",
     "text": [
      "Bigram\n",
      "0    2.966165\n",
      "1    3.933315\n",
      "Name: Conc.M, dtype: float64\n"
     ]
    }
   ],
   "source": [
    "# Group the data into single words and bigrams using the \"Bigram\" column.\n",
    "# calculate the mean concreteness rating for each group\n",
    "print(df.groupby('Bigram')['Conc.M'].mean())"
   ]
  },
  {
   "cell_type": "code",
   "execution_count": 75,
   "id": "43b4500d",
   "metadata": {
    "scrolled": true
   },
   "outputs": [
    {
     "data": {
      "image/png": "[encoded data removed]",
      "text/plain": [
       "<Figure size 432x288 with 1 Axes>"
      ]
     },
     "metadata": {
      "needs_background": "light"
     },
     "output_type": "display_data"
    }
   ],
   "source": [
    "# Compare the mean concreteness ratings for single words and bigrams.\n",
    "df.groupby('Bigram')['Conc.M'].mean().plot(kind='bar')\n",
    "plt.show() "
   ]
  },
  {
   "cell_type": "markdown",
   "id": "383ead79",
   "metadata": {},
   "source": [
    "The data suggests that, on average, bigrams (two-word expressions) are considered more concrete than single words. This can be seen by comparing the mean concreteness rating for single words (Bigram = 0) which is 2.966165, to the mean concreteness rating for bigrams (Bigram = 1) which is 3.933315."
   ]
  },
  {
   "cell_type": "code",
   "execution_count": 65,
   "id": "7270c65a",
   "metadata": {},
   "outputs": [
    {
     "data": {
      "image/png": "[encoded data removed]",
      "text/plain": [
       "<Figure size 432x288 with 1 Axes>"
      ]
     },
     "metadata": {
      "needs_background": "light"
     },
     "output_type": "display_data"
    }
   ],
   "source": [
    "# create a boxplot or a violin plot to have a more clear idea \n",
    "# about the distribution of concreteness rating between single words and bigrams.\n",
    "\n",
    "# plot a box plot of the \"Conc.M\" column against the \"Bigram\" column\n",
    "df.boxplot(column='Conc.M', by='Bigram')\n",
    "plt.show()"
   ]
  },
  {
   "cell_type": "markdown",
   "id": "7318559d",
   "metadata": {},
   "source": [
    "### Explore the column Conc.M and Conc.SD"
   ]
  },
  {
   "cell_type": "markdown",
   "id": "74bd691f",
   "metadata": {},
   "source": [
    "#### What is the distribution of concreteness ratings for the words in the dataset? "
   ]
  },
  {
   "cell_type": "code",
   "execution_count": 31,
   "id": "cc6a057c",
   "metadata": {
    "scrolled": true
   },
   "outputs": [
    {
     "name": "stdout",
     "output_type": "stream",
     "text": [
      "             Conc.M       Conc.SD\n",
      "count  39954.000000  39954.000000\n",
      "mean       3.036267      1.148359\n",
      "std        1.038602      0.310931\n",
      "min        1.040000      0.000000\n",
      "25%        2.120000      1.000000\n",
      "50%        2.880000      1.210000\n",
      "75%        3.890000      1.370000\n",
      "max        5.000000      1.890000\n"
     ]
    }
   ],
   "source": [
    "# to calculate basic descriptive statistics such as mean, median, and standard deviation for the columns \"Conc.M\" and \"Conc.SD\"\n",
    "df[['Conc.M', 'Conc.SD']].describe()\n",
    "# output the result\n",
    "print(df[['Conc.M', 'Conc.SD']].describe())"
   ]
  },
  {
   "cell_type": "markdown",
   "id": "907ab940",
   "metadata": {},
   "source": [
    "Based on the descriptive statistics provided for the columns \"Conc.M\" (The mean concreteness rating) and \"Conc.SD\" (The standard deviation of the concreteness ratings), it can be concluded that the concreteness ratings for the words in the dataset are reliable and consistent. The average concreteness rating is about 3.04, which indicates that the words are rated as moderately concrete. The standard deviation of the concreteness ratings is about 1.15, which suggests that there is a relatively high degree of variability in the ratings. The minimum and maximum values of the concreteness rating are 1.04 and 5 respectively, indicating that the ratings are spread out over a wide range. The 25th, 50th and 75th percentiles of the concreteness rating are 2.12, 2.88, and 3.89 respectively, which means that 25% of the words in the dataset are rated as less concrete than 2.12, 50% of the words are rated as less concrete than 2.88, and 75% of the words are rated as less concrete than 3.89. Additionally, the median for the concreteness rating is 2.88, which is a measure of central tendency for the data set."
   ]
  },
  {
   "cell_type": "markdown",
   "id": "8d975ee4",
   "metadata": {},
   "source": [
    "For the column \"Conc.SD\" (the standard deviation of the concreteness ratings), the majority of the concreteness rating standard deviation values are clustered around the mean, deviating from it by a small amount. The standard deviation of the concreteness rating standard deviation values is relatively small when compared to the mean, which suggests that the data is relatively consistent. This consistency in the concreteness rating standard deviation values may indicate that the concreteness ratings in the dataset are based on a reliable and consistent method or scale."
   ]
  },
  {
   "cell_type": "markdown",
   "id": "c53aed77",
   "metadata": {},
   "source": [
    "Overall, the descriptive statistics provide a good representation of the concreteness of the words in the dataset. They suggest that the concreteness ratings are reliable and consistent, providing a good representation of the distribution of concreteness ratings for the words in the dataset."
   ]
  },
  {
   "cell_type": "code",
   "execution_count": 30,
   "id": "eabb0d2d",
   "metadata": {
    "scrolled": false
   },
   "outputs": [
    {
     "name": "stdout",
     "output_type": "stream",
     "text": [
      "Word                  sled\n",
      "Bigram                   0\n",
      "Conc.M                 5.0\n",
      "Conc.SD                0.0\n",
      "Unknown                  0\n",
      "Total                   28\n",
      "Percent_known          1.0\n",
      "SUBTLEX                149\n",
      "Dom_Pos          Adjective\n",
      "Name: 16, dtype: object\n",
      "Word                       eh\n",
      "Bigram                      0\n",
      "Conc.M                   1.04\n",
      "Conc.SD                   0.2\n",
      "Unknown                     4\n",
      "Total                      29\n",
      "Percent_known        0.862069\n",
      "SUBTLEX                  2619\n",
      "Dom_Pos          Interjection\n",
      "Name: 8112, dtype: object\n"
     ]
    }
   ],
   "source": [
    "# find the words with the mix and max mean in the Conc.M column\n",
    "print(df.loc[df['Conc.M'].idxmax()])\n",
    "print(df.loc[df['Conc.M'].idxmin()])"
   ]
  },
  {
   "cell_type": "code",
   "execution_count": 37,
   "id": "25ad6842",
   "metadata": {
    "scrolled": false
   },
   "outputs": [
    {
     "data": {
      "image/png": "[encoded data removed]",
      "text/plain": [
       "<Figure size 432x288 with 1 Axes>"
      ]
     },
     "metadata": {
      "needs_background": "light"
     },
     "output_type": "display_data"
    },
    {
     "data": {
      "image/png": "[encoded data removed]",
      "text/plain": [
       "<Figure size 432x288 with 1 Axes>"
      ]
     },
     "metadata": {
      "needs_background": "light"
     },
     "output_type": "display_data"
    }
   ],
   "source": [
    "# It's also a good idea to visualize the data to\n",
    "# have a better understanding of the distribution of concreteness ratings in the dataset.\n",
    "\n",
    "# plot a histogram of the \"Conc.M\" and “Conc.SD” column\n",
    "df['Conc.M'].plot(kind='hist')\n",
    "plt.show()\n",
    "df['Conc.SD'].plot(kind='hist')\n",
    "plt.show()"
   ]
  },
  {
   "cell_type": "code",
   "execution_count": 210,
   "id": "82edce52",
   "metadata": {
    "scrolled": false
   },
   "outputs": [
    {
     "data": {
      "image/png": "[encoded data removed]",
      "text/plain": [
       "<Figure size 432x288 with 1 Axes>"
      ]
     },
     "metadata": {
      "needs_background": "light"
     },
     "output_type": "display_data"
    }
   ],
   "source": [
    "# Create a scatter plot to check the correlation between Conc.M (The mean concreteness rating) \n",
    "# and the Conc.SD (The standard deviation of the concreteness ratings )\n",
    "\n",
    "# 2. scatter plots\n",
    "plt.scatter(df['Conc.M'], df['Conc.SD'])\n",
    "plt.xlabel('Concreteness rating')\n",
    "plt.ylabel('Standard deviation')\n",
    "plt.show()"
   ]
  },
  {
   "cell_type": "code",
   "execution_count": 212,
   "id": "d2de7b4f",
   "metadata": {},
   "outputs": [
    {
     "data": {
      "text/plain": [
       "-0.30836107344858454"
      ]
     },
     "execution_count": 212,
     "metadata": {},
     "output_type": "execute_result"
    }
   ],
   "source": [
    "# calculate the correlation coefficient between Conc.M (The mean concreteness rating) \n",
    "# and the Conc.SD (The standard deviation of the concreteness ratings )\n",
    "df['Conc.M'].corr(df['Conc.SD'])"
   ]
  },
  {
   "cell_type": "markdown",
   "id": "92a0e570",
   "metadata": {},
   "source": [
    "The correlation coefficient of -0.308 suggests a moderate negative correlation between the standard deviation of concreteness ratings (Conc.SD) and the mean concreteness rating (Conc.M). This means that as the standard deviation of concreteness ratings increases, the mean concreteness rating decreases, and vice versa. This relationship is not extremely strong, but it does indicate that there is a relationship between the two variables."
   ]
  },
  {
   "cell_type": "markdown",
   "id": "e21d2bfc",
   "metadata": {},
   "source": [
    "### Explore column Percent_known"
   ]
  },
  {
   "cell_type": "markdown",
   "id": "efcf6b4b",
   "metadata": {},
   "source": [
    "#### Explore the column Percent_known itself"
   ]
  },
  {
   "cell_type": "code",
   "execution_count": 213,
   "id": "60a70644",
   "metadata": {},
   "outputs": [
    {
     "data": {
      "text/plain": [
       "1.000000    21022\n",
       "0.965517     2047\n",
       "0.964286     1879\n",
       "0.962963     1505\n",
       "0.931034     1187\n",
       "            ...  \n",
       "0.999152        1\n",
       "0.999835        1\n",
       "0.998813        1\n",
       "0.999670        1\n",
       "0.996257        1\n",
       "Name: Percent_known, Length: 77, dtype: int64"
      ]
     },
     "execution_count": 213,
     "metadata": {},
     "output_type": "execute_result"
    }
   ],
   "source": [
    "# frequecy of the Percent_known\n",
    "df['Percent_known'].value_counts()"
   ]
  },
  {
   "cell_type": "code",
   "execution_count": 143,
   "id": "64b6bc7f",
   "metadata": {},
   "outputs": [
    {
     "data": {
      "text/plain": [
       "(array([1.4450e+03, 1.2940e+03, 1.1170e+03, 2.3080e+03, 4.0400e+02,\n",
       "        4.3170e+03, 4.0000e+00, 8.0100e+03, 1.0000e+00, 2.1054e+04]),\n",
       " array([0.84615385, 0.86153846, 0.87692308, 0.89230769, 0.90769231,\n",
       "        0.92307692, 0.93846154, 0.95384615, 0.96923077, 0.98461538,\n",
       "        1.        ]),\n",
       " <BarContainer object of 10 artists>)"
      ]
     },
     "execution_count": 143,
     "metadata": {},
     "output_type": "execute_result"
    },
    {
     "data": {
      "image/png": "[encoded data removed]",
      "text/plain": [
       "<Figure size 432x288 with 1 Axes>"
      ]
     },
     "metadata": {
      "needs_background": "light"
     },
     "output_type": "display_data"
    }
   ],
   "source": [
    "# histograms for the Percent_known (Percentage participants who knew the word)\n",
    "plt.hist(df['Percent_known'])"
   ]
  },
  {
   "cell_type": "markdown",
   "id": "a6936324",
   "metadata": {},
   "source": [
    "#### Explore column Percent_known with Conc.M"
   ]
  },
  {
   "cell_type": "markdown",
   "id": "6edc3f72",
   "metadata": {},
   "source": [
    "This outcome represents the frequency distribution of the percentage of participants who knew the word for the given dataset. The x-axis represents the range of percentage values (0.8 - 1.0) and the y-axis represents the frequency count for each range. From this histogram, we can see that the majority of the words have a relatively high percentage of participants who knew the word, with the highest frequency count being at the highest percentage range (1.0) and a decreasing frequency count as the percentage decreases. This suggests that the majority of the words in the dataset are well-known among the participants. Overall, the histogram shows a right-skewed distribution."
   ]
  },
  {
   "cell_type": "code",
   "execution_count": 215,
   "id": "59ce0811",
   "metadata": {},
   "outputs": [
    {
     "data": {
      "text/plain": [
       "(191434.3227620774,\n",
       " 0.0,\n",
       " 27892,\n",
       " array([[1.08124343e-02, 2.86329279e-02, 3.28878210e-02, ...,\n",
       "         5.00575662e-05, 5.00575662e-05, 1.05231016e+00],\n",
       "        [1.08124343e-02, 2.86329279e-02, 3.28878210e-02, ...,\n",
       "         5.00575662e-05, 5.00575662e-05, 1.05231016e+00],\n",
       "        [5.40621715e-03, 1.43164639e-02, 1.64439105e-02, ...,\n",
       "         2.50287831e-05, 2.50287831e-05, 5.26155078e-01],\n",
       "        ...,\n",
       "        [1.21099264e+00, 3.20688792e+00, 3.68343595e+00, ...,\n",
       "         5.60644741e-03, 5.60644741e-03, 1.17858738e+02],\n",
       "        [6.43339841e-01, 1.70365921e+00, 1.95682535e+00, ...,\n",
       "         2.97842519e-03, 2.97842519e-03, 6.26124543e+01],\n",
       "        [1.51374080e+00, 4.00860990e+00, 4.60429494e+00, ...,\n",
       "         7.00805927e-03, 7.00805927e-03, 1.47323422e+02]]))"
      ]
     },
     "execution_count": 215,
     "metadata": {},
     "output_type": "execute_result"
    }
   ],
   "source": [
    "# Investigating whether participants are more likely to know concrete words versus abstract words \n",
    "# (using the Percent_known column) using chi-squared test.\n",
    "\n",
    "# 1. chi-squared test\n",
    "stats.chi2_contingency(pd.crosstab(df['Conc.M'], df['Percent_known']))"
   ]
  },
  {
   "cell_type": "markdown",
   "id": "b6abcd9f",
   "metadata": {},
   "source": [
    "Based on the outcome of the chi-squared test for the column Percent_known (Percentage participants who knew the word), it can be concluded that there is a significant relationship between concreteness and word familiarity. The test yields a p-value of 0, indicating that the null hypothesis that there is no association between concreteness and word familiarity can be rejected. The contingency table shows the count of participants who knew the word for different concreteness levels. This information can be used to conclude that participants are more likely to know concrete words than abstract words, which is in line with the research question of investigating whether participants are more likely to know concrete words versus abstract words."
   ]
  },
  {
   "cell_type": "code",
   "execution_count": 216,
   "id": "68374b4d",
   "metadata": {
    "scrolled": true
   },
   "outputs": [
    {
     "data": {
      "text/html": [
       "<div>\n",
       "<style scoped>\n",
       "    .dataframe tbody tr th:only-of-type {\n",
       "        vertical-align: middle;\n",
       "    }\n",
       "\n",
       "    .dataframe tbody tr th {\n",
       "        vertical-align: top;\n",
       "    }\n",
       "\n",
       "    .dataframe thead th {\n",
       "        text-align: right;\n",
       "    }\n",
       "</style>\n",
       "<table border=\"1\" class=\"dataframe\">\n",
       "  <thead>\n",
       "    <tr style=\"text-align: right;\">\n",
       "      <th></th>\n",
       "      <th>Conc.M</th>\n",
       "      <th>Percent_known</th>\n",
       "    </tr>\n",
       "  </thead>\n",
       "  <tbody>\n",
       "    <tr>\n",
       "      <th>Conc.M</th>\n",
       "      <td>1.000000</td>\n",
       "      <td>0.195933</td>\n",
       "    </tr>\n",
       "    <tr>\n",
       "      <th>Percent_known</th>\n",
       "      <td>0.195933</td>\n",
       "      <td>1.000000</td>\n",
       "    </tr>\n",
       "  </tbody>\n",
       "</table>\n",
       "</div>"
      ],
      "text/plain": [
       "                 Conc.M  Percent_known\n",
       "Conc.M         1.000000       0.195933\n",
       "Percent_known  0.195933       1.000000"
      ]
     },
     "execution_count": 216,
     "metadata": {},
     "output_type": "execute_result"
    }
   ],
   "source": [
    "# check the correlation between the concreteness rating in Conc.M (The mean concreteness rating) \n",
    "# and the familiarity of the words Percent_known (Percentage participants who knew the word).\n",
    "df[['Conc.M', 'Percent_known']].corr()"
   ]
  },
  {
   "cell_type": "markdown",
   "id": "1fc9559c",
   "metadata": {},
   "source": [
    "The correlation coefficient between the concreteness rating in Conc.M and the familiarity of the words Percent_known is 0.195933. This value is close to 0, which indicates a weak positive correlation between the two variables. This means that as the familiarity of the words (Percent_known) increases, there is a slight increase in the concreteness rating (Conc.M). However, the correlation is not very strong, indicating that other factors may also be influencing the concreteness rating."
   ]
  },
  {
   "cell_type": "code",
   "execution_count": 217,
   "id": "ab2d991d",
   "metadata": {},
   "outputs": [
    {
     "data": {
      "image/png": "[encoded data removed]",
      "text/plain": [
       "<Figure size 432x288 with 1 Axes>"
      ]
     },
     "metadata": {
      "needs_background": "light"
     },
     "output_type": "display_data"
    }
   ],
   "source": [
    "# to visualize it better, we can plot a scatter plot\n",
    "plt.scatter(df['Conc.M'], df['Percent_known'])\n",
    "plt.xlabel('Concreteness rating')\n",
    "plt.ylabel('Familiarity (%)')\n",
    "plt.show()"
   ]
  },
  {
   "cell_type": "markdown",
   "id": "ea92dc9d",
   "metadata": {},
   "source": [
    "#### Explore column Unknown with Conc.M"
   ]
  },
  {
   "cell_type": "code",
   "execution_count": 224,
   "id": "2559426b",
   "metadata": {},
   "outputs": [
    {
     "data": {
      "text/plain": [
       "-0.05819095881642423"
      ]
     },
     "execution_count": 224,
     "metadata": {},
     "output_type": "execute_result"
    }
   ],
   "source": [
    "# what about that for the 'Unknown' column? \n",
    "\n",
    "# calculate the correlation coefficient between Conc.M (The mean concreteness rating) \n",
    "# and the \"Unknown\" (The number of persons indicating they did not know the word )\n",
    "df['Conc.M'].corr(df['Unknown'])"
   ]
  },
  {
   "cell_type": "markdown",
   "id": "0231a773",
   "metadata": {},
   "source": [
    "The correlation coefficient between the variables 'Unknown' and 'Conc.M' is -0.058, which suggests a very weak negative correlation. This means that as the number of persons indicating they did not know a word increases, there is a slight decrease in the mean concreteness rating of the word. However, it is important to note that the correlation coefficient is very close to zero, indicating that there is little to no relationship between these two variables. It can be concluded that the number of persons indicating they did not know a word is not a significant predictor of the mean concreteness rating of the word."
   ]
  },
  {
   "cell_type": "markdown",
   "id": "654f3ccc",
   "metadata": {},
   "source": [
    "### Explore column \"Total\""
   ]
  },
  {
   "cell_type": "code",
   "execution_count": 111,
   "id": "a9b36a46",
   "metadata": {},
   "outputs": [
    {
     "name": "stdout",
     "output_type": "stream",
     "text": [
      "              Total\n",
      "count  39954.000000\n",
      "mean      33.195450\n",
      "std      174.829539\n",
      "min       21.000000\n",
      "25%       27.000000\n",
      "50%       28.000000\n",
      "75%       29.000000\n",
      "max     6072.000000\n"
     ]
    }
   ],
   "source": [
    "# to calculate basic descriptive statistics such as mean, median, and standard deviation for the column 'Total'\n",
    "print(df[['Total']].describe())"
   ]
  },
  {
   "cell_type": "markdown",
   "id": "2fb6b104",
   "metadata": {},
   "source": [
    "This outcome gives some descriptive statistics for the column \"Total\", which represents the total number of persons who rated the word. The count of 39954 suggests that there are 39954 words in the dataset. And based on the statistics provided, it appears that the sample size is not consistent across all words. The mean value of 33.195 suggests that most words have been rated by a similar number of people, however, the standard deviation of 174.829 indicates that there is significant variability in the sample size, with some words being rated by a much larger or smaller number of people than others. The minimum value of 21 and the maximum value of 6072 further support this. "
   ]
  },
  {
   "cell_type": "code",
   "execution_count": 49,
   "id": "c7154ae1",
   "metadata": {},
   "outputs": [
    {
     "data": {
      "text/html": [
       "<div>\n",
       "<style scoped>\n",
       "    .dataframe tbody tr th:only-of-type {\n",
       "        vertical-align: middle;\n",
       "    }\n",
       "\n",
       "    .dataframe tbody tr th {\n",
       "        vertical-align: top;\n",
       "    }\n",
       "\n",
       "    .dataframe thead th {\n",
       "        text-align: right;\n",
       "    }\n",
       "</style>\n",
       "<table border=\"1\" class=\"dataframe\">\n",
       "  <thead>\n",
       "    <tr style=\"text-align: right;\">\n",
       "      <th></th>\n",
       "      <th>Word</th>\n",
       "      <th>Total</th>\n",
       "    </tr>\n",
       "  </thead>\n",
       "  <tbody>\n",
       "    <tr>\n",
       "      <th>13092</th>\n",
       "      <td>gas</td>\n",
       "      <td>6072</td>\n",
       "    </tr>\n",
       "  </tbody>\n",
       "</table>\n",
       "</div>"
      ],
      "text/plain": [
       "      Word  Total\n",
       "13092  gas   6072"
      ]
     },
     "execution_count": 49,
     "metadata": {},
     "output_type": "execute_result"
    }
   ],
   "source": [
    "#  show the words only with 6072 occurrence in the column \"Total\" and its word\n",
    "df[df['Total'] == 6072][['Word','Total']]"
   ]
  },
  {
   "cell_type": "code",
   "execution_count": 48,
   "id": "18a35a17",
   "metadata": {},
   "outputs": [
    {
     "data": {
      "text/html": [
       "<div>\n",
       "<style scoped>\n",
       "    .dataframe tbody tr th:only-of-type {\n",
       "        vertical-align: middle;\n",
       "    }\n",
       "\n",
       "    .dataframe tbody tr th {\n",
       "        vertical-align: top;\n",
       "    }\n",
       "\n",
       "    .dataframe thead th {\n",
       "        text-align: right;\n",
       "    }\n",
       "</style>\n",
       "<table border=\"1\" class=\"dataframe\">\n",
       "  <thead>\n",
       "    <tr style=\"text-align: right;\">\n",
       "      <th></th>\n",
       "      <th>Word</th>\n",
       "      <th>Total</th>\n",
       "    </tr>\n",
       "  </thead>\n",
       "  <tbody>\n",
       "    <tr>\n",
       "      <th>5283</th>\n",
       "      <td>unpremeditated</td>\n",
       "      <td>21</td>\n",
       "    </tr>\n",
       "    <tr>\n",
       "      <th>7363</th>\n",
       "      <td>considerately</td>\n",
       "      <td>21</td>\n",
       "    </tr>\n",
       "  </tbody>\n",
       "</table>\n",
       "</div>"
      ],
      "text/plain": [
       "                Word  Total\n",
       "5283  unpremeditated     21\n",
       "7363   considerately     21"
      ]
     },
     "execution_count": 48,
     "metadata": {},
     "output_type": "execute_result"
    }
   ],
   "source": [
    "#  show the words only with 21 occurrence in the column \"Total\" and its word\n",
    "df[df['Total'] == 21][['Word','Total']]"
   ]
  },
  {
   "cell_type": "markdown",
   "id": "76ad3103",
   "metadata": {},
   "source": [
    "### Explore column \"SUBTLEX\""
   ]
  },
  {
   "cell_type": "markdown",
   "id": "8119cb09",
   "metadata": {},
   "source": [
    "#### What is the distribution of frequency count of the words?"
   ]
  },
  {
   "cell_type": "code",
   "execution_count": 39,
   "id": "27120e42",
   "metadata": {
    "scrolled": true
   },
   "outputs": [
    {
     "name": "stdout",
     "output_type": "stream",
     "text": [
      "1077.8026981028183\n",
      "22420.37444236021\n"
     ]
    }
   ],
   "source": [
    "# calculate the mean and standard deviation for the column \"SUBTLEX\"\n",
    "# to understand the distribution of frequency count of the words\n",
    "df['SUBTLEX'].mean()\n",
    "df['SUBTLEX'].std()\n",
    "# output the result\n",
    "print(df['SUBTLEX'].mean())\n",
    "print(df['SUBTLEX'].std())"
   ]
  },
  {
   "cell_type": "markdown",
   "id": "e8f08555",
   "metadata": {},
   "source": [
    "Based on the descriptive statistics provided for the column \"SUBTLEX\" (The SUBTLEX-US frequency count), it can be concluded that the frequency count of the words in the dataset are spread out over a wide range, with a mean frequency count of 1077.80 and a standard deviation of 22420.37.\n",
    "\n",
    "The mean frequency count of 1077.80 suggests that on average, the words in the dataset have a moderate frequency of occurrence in the SUBTLEX-US corpus. However, the high standard deviation of 22420.37 indicates that there is a significant degree of variability in the frequency count of the words in the dataset.This wide range is also evident in the minimum and maximum values, which are not provided in the data you've given.\n",
    "\n",
    "It's worth noting that the standard deviation is much larger than the mean, this indicates that there might be a large number of outliers in the data, which means that there are some words that have a very high frequency count compared to the average. This could be words that are very common in the American English language as spoken in movies and television shows.\n",
    "\n",
    "Overall, the descriptive statistics provide a good representation of the distribution of frequency count of the words in the dataset. They suggest that the frequency count of the words in the dataset are spread out over a wide range, with a moderate average frequency count and a significant degree of variability. "
   ]
  },
  {
   "cell_type": "code",
   "execution_count": 50,
   "id": "7393cca1",
   "metadata": {},
   "outputs": [
    {
     "name": "stdout",
     "output_type": "stream",
     "text": [
      "(array([  529,  5720,  6135,  6158,  6175,  6178,  6194,  6219,  6319,\n",
      "        7195,  7276,  7566,  7633,  7753,  7838,  7884,  7916,  7918,\n",
      "        7931,  7969,  8005,  8006,  8007,  8009,  8016,  8018,  8022,\n",
      "        8028,  8033,  8041,  8045,  8048,  8050,  8055,  8061,  8082,\n",
      "        8092,  8096,  8105,  8108,  8552, 10070, 18075, 20659, 23150,\n",
      "       23210, 23214, 23239, 23241, 23242, 23246, 23250, 23255, 23258,\n",
      "       23259, 23269, 23270, 23271, 23272, 23275, 23277, 23281, 23284,\n",
      "       23286, 23287, 23288, 23292, 23294, 23302, 23306, 23317, 23322,\n",
      "       23324, 23326, 23419, 25290, 25410, 25626, 25862, 26003, 26374,\n",
      "       26446, 26493, 26563, 26712, 26985, 27011, 27131, 27187, 27460,\n",
      "       27677, 28132, 28202, 28223, 28226, 28324, 28445, 28546, 28558,\n",
      "       28620, 28678, 28699, 28706]),)\n",
      "529       73766\n",
      "5720     133117\n",
      "6135     102467\n",
      "6158     187170\n",
      "6175      76004\n",
      "          ...  \n",
      "28558    291780\n",
      "28620    459663\n",
      "28678     84804\n",
      "28699     83109\n",
      "28706     90162\n",
      "Name: SUBTLEX, Length: 103, dtype: int64\n"
     ]
    }
   ],
   "source": [
    "# find the the number of outliers and the words of them in the \"SUBTLEX\" column   \n",
    "\n",
    "# calculate the z-score for each value in the \"SUBTLEX\" column\n",
    "z = np.abs(stats.zscore(df['SUBTLEX']))\n",
    "# find the outliers\n",
    "outliers = np.where(z > 3)\n",
    "# output the result\n",
    "print(outliers)\n",
    "print(df['SUBTLEX'][outliers[0]])"
   ]
  },
  {
   "cell_type": "markdown",
   "id": "060f5d0d",
   "metadata": {},
   "source": [
    "The column \"SUBTLEX\" has 103 outliers, words that are considered to be extremely common in American English language with a much higher frequency count than the rest of the words. These words have been identified by their indexes and their frequency count can be seen by using the print(df['SUBTLEX'][outliers[0]]) function. They represent a small percentage of the total words in the dataset but they have a much higher frequency count than the rest."
   ]
  },
  {
   "cell_type": "code",
   "execution_count": 54,
   "id": "b63c46d5",
   "metadata": {
    "scrolled": true
   },
   "outputs": [
    {
     "name": "stdout",
     "output_type": "stream",
     "text": [
      "       Word  Bigram  Conc.M  Conc.SD  Unknown  Total  Percent_known  SUBTLEX  \\\n",
      "529  little       0    3.67     1.32        0     30            1.0    73766   \n",
      "\n",
      "       Dom_Pos  \n",
      "529  Adjective  \n"
     ]
    }
   ],
   "source": [
    "# test to find the word with 73766 frequency count in the \"SUBTLEX\" column\n",
    "df.loc[df['SUBTLEX'] == 73766]\n",
    "# output the result\n",
    "print(df.loc[df['SUBTLEX'] == 73766])"
   ]
  },
  {
   "cell_type": "markdown",
   "id": "ec976810",
   "metadata": {},
   "source": [
    "#### Explore column \"SUBTLEX\" with 'Percent_known' "
   ]
  },
  {
   "cell_type": "code",
   "execution_count": 225,
   "id": "78640c47",
   "metadata": {
    "scrolled": false
   },
   "outputs": [
    {
     "data": {
      "text/html": [
       "<div>\n",
       "<style scoped>\n",
       "    .dataframe tbody tr th:only-of-type {\n",
       "        vertical-align: middle;\n",
       "    }\n",
       "\n",
       "    .dataframe tbody tr th {\n",
       "        vertical-align: top;\n",
       "    }\n",
       "\n",
       "    .dataframe thead th {\n",
       "        text-align: right;\n",
       "    }\n",
       "</style>\n",
       "<table border=\"1\" class=\"dataframe\">\n",
       "  <thead>\n",
       "    <tr style=\"text-align: right;\">\n",
       "      <th></th>\n",
       "      <th>SUBTLEX</th>\n",
       "      <th>Percent_known</th>\n",
       "    </tr>\n",
       "  </thead>\n",
       "  <tbody>\n",
       "    <tr>\n",
       "      <th>SUBTLEX</th>\n",
       "      <td>1.000000</td>\n",
       "      <td>0.030885</td>\n",
       "    </tr>\n",
       "    <tr>\n",
       "      <th>Percent_known</th>\n",
       "      <td>0.030885</td>\n",
       "      <td>1.000000</td>\n",
       "    </tr>\n",
       "  </tbody>\n",
       "</table>\n",
       "</div>"
      ],
      "text/plain": [
       "                SUBTLEX  Percent_known\n",
       "SUBTLEX        1.000000       0.030885\n",
       "Percent_known  0.030885       1.000000"
      ]
     },
     "execution_count": 225,
     "metadata": {},
     "output_type": "execute_result"
    }
   ],
   "source": [
    "# Calculating the correlation between the columns 'SUBTLEX' and 'Percent_known' \n",
    "df[['SUBTLEX', 'Percent_known']].corr()"
   ]
  },
  {
   "cell_type": "markdown",
   "id": "62a83559",
   "metadata": {},
   "source": [
    "The outcome of the correlation coefficient between the variables 'SUBTLEX' and 'Percent_known' is 0.03. This suggests that there is a very weak correlation between these two variables. This means that there is little to no association between the SUBTLEX-US frequency count of a word and the percentage of participants who knew that word. The correlation coefficient is close to zero, indicating that the frequency of a word in the SUBTLEX-US corpus is not a significant predictor of the percentage of participants who knew that word."
   ]
  },
  {
   "cell_type": "markdown",
   "id": "db101b9c",
   "metadata": {},
   "source": [
    "#### Explore column \"SUBTLEX\" with Conc.M"
   ]
  },
  {
   "cell_type": "code",
   "execution_count": 12,
   "id": "2d536d02",
   "metadata": {
    "scrolled": true
   },
   "outputs": [
    {
     "data": {
      "text/plain": [
       "-0.015129151408617484"
      ]
     },
     "execution_count": 12,
     "metadata": {},
     "output_type": "execute_result"
    }
   ],
   "source": [
    "# calculate the correlation between \"Conc.M\" and \"SUBTLEX\" \n",
    "# to understand the relationship between the concreteness rating and the frequency of word usage in the language.\n",
    "df['Conc.M'].corr(df['SUBTLEX'])"
   ]
  },
  {
   "cell_type": "markdown",
   "id": "a9b2cce0",
   "metadata": {},
   "source": [
    "Based on the correlation coefficient of -0.015129151408617484 between the Conc.M (The mean concreteness rating) and \"SUBTLEX\" (The SUBTLEX-US frequency count), it appears that there is a very weak negative correlation between the two variables. This suggests that as the frequency of word usage in the language increases, the concreteness rating of the word may decrease slightly."
   ]
  },
  {
   "cell_type": "code",
   "execution_count": 27,
   "id": "db0f164a",
   "metadata": {
    "scrolled": true
   },
   "outputs": [
    {
     "data": {
      "text/html": [
       "<table class=\"simpletable\">\n",
       "<caption>OLS Regression Results</caption>\n",
       "<tr>\n",
       "  <th>Dep. Variable:</th>         <td>Conc.M</td>      <th>  R-squared (uncentered):</th>       <td>   0.002</td>  \n",
       "</tr>\n",
       "<tr>\n",
       "  <th>Model:</th>                   <td>OLS</td>       <th>  Adj. R-squared (uncentered):</th>  <td>   0.002</td>  \n",
       "</tr>\n",
       "<tr>\n",
       "  <th>Method:</th>             <td>Least Squares</td>  <th>  F-statistic:       </th>           <td>   65.78</td>  \n",
       "</tr>\n",
       "<tr>\n",
       "  <th>Date:</th>             <td>Fri, 13 Jan 2023</td> <th>  Prob (F-statistic):</th>           <td>5.19e-16</td>  \n",
       "</tr>\n",
       "<tr>\n",
       "  <th>Time:</th>                 <td>11:44:34</td>     <th>  Log-Likelihood:    </th>          <td>-1.0324e+05</td>\n",
       "</tr>\n",
       "<tr>\n",
       "  <th>No. Observations:</th>      <td> 39954</td>      <th>  AIC:               </th>           <td>2.065e+05</td> \n",
       "</tr>\n",
       "<tr>\n",
       "  <th>Df Residuals:</th>          <td> 39953</td>      <th>  BIC:               </th>           <td>2.065e+05</td> \n",
       "</tr>\n",
       "<tr>\n",
       "  <th>Df Model:</th>              <td>     1</td>      <th>                     </th>               <td> </td>     \n",
       "</tr>\n",
       "<tr>\n",
       "  <th>Covariance Type:</th>      <td>nonrobust</td>    <th>                     </th>               <td> </td>     \n",
       "</tr>\n",
       "</table>\n",
       "<table class=\"simpletable\">\n",
       "<tr>\n",
       "     <td></td>        <th>coef</th>     <th>std err</th>      <th>t</th>      <th>P>|t|</th>  <th>[0.025</th>    <th>0.975]</th>  \n",
       "</tr>\n",
       "<tr>\n",
       "  <th>SUBTLEX</th> <td> 5.796e-06</td> <td> 7.15e-07</td> <td>    8.110</td> <td> 0.000</td> <td>  4.4e-06</td> <td>  7.2e-06</td>\n",
       "</tr>\n",
       "</table>\n",
       "<table class=\"simpletable\">\n",
       "<tr>\n",
       "  <th>Omnibus:</th>       <td>245.490</td> <th>  Durbin-Watson:     </th> <td>   0.003</td>\n",
       "</tr>\n",
       "<tr>\n",
       "  <th>Prob(Omnibus):</th> <td> 0.000</td>  <th>  Jarque-Bera (JB):  </th> <td> 249.696</td>\n",
       "</tr>\n",
       "<tr>\n",
       "  <th>Skew:</th>          <td> 0.192</td>  <th>  Prob(JB):          </th> <td>6.02e-55</td>\n",
       "</tr>\n",
       "<tr>\n",
       "  <th>Kurtosis:</th>      <td> 2.953</td>  <th>  Cond. No.          </th> <td>    1.00</td>\n",
       "</tr>\n",
       "</table><br/><br/>Notes:<br/>[1] R² is computed without centering (uncentered) since the model does not contain a constant.<br/>[2] Standard Errors assume that the covariance matrix of the errors is correctly specified."
      ],
      "text/plain": [
       "<class 'statsmodels.iolib.summary.Summary'>\n",
       "\"\"\"\n",
       "                                 OLS Regression Results                                \n",
       "=======================================================================================\n",
       "Dep. Variable:                 Conc.M   R-squared (uncentered):                   0.002\n",
       "Model:                            OLS   Adj. R-squared (uncentered):              0.002\n",
       "Method:                 Least Squares   F-statistic:                              65.78\n",
       "Date:                Fri, 13 Jan 2023   Prob (F-statistic):                    5.19e-16\n",
       "Time:                        11:44:34   Log-Likelihood:                     -1.0324e+05\n",
       "No. Observations:               39954   AIC:                                  2.065e+05\n",
       "Df Residuals:                   39953   BIC:                                  2.065e+05\n",
       "Df Model:                           1                                                  \n",
       "Covariance Type:            nonrobust                                                  \n",
       "==============================================================================\n",
       "                 coef    std err          t      P>|t|      [0.025      0.975]\n",
       "------------------------------------------------------------------------------\n",
       "SUBTLEX     5.796e-06   7.15e-07      8.110      0.000     4.4e-06     7.2e-06\n",
       "==============================================================================\n",
       "Omnibus:                      245.490   Durbin-Watson:                   0.003\n",
       "Prob(Omnibus):                  0.000   Jarque-Bera (JB):              249.696\n",
       "Skew:                           0.192   Prob(JB):                     6.02e-55\n",
       "Kurtosis:                       2.953   Cond. No.                         1.00\n",
       "==============================================================================\n",
       "\n",
       "Notes:\n",
       "[1] R² is computed without centering (uncentered) since the model does not contain a constant.\n",
       "[2] Standard Errors assume that the covariance matrix of the errors is correctly specified.\n",
       "\"\"\""
      ]
     },
     "execution_count": 27,
     "metadata": {},
     "output_type": "execute_result"
    }
   ],
   "source": [
    "# to use visualization tools to have a more clear idea about the relationship between the two variables.\n",
    "\n",
    "# to use a linear regression analysis to examine the relationship between the frequency of word usage and concreteness rating.\n",
    "# create a linear regression model\n",
    "model = sm.OLS(df['Conc.M'], df['SUBTLEX'])\n",
    "results = model.fit()\n",
    "results.summary()"
   ]
  },
  {
   "cell_type": "markdown",
   "id": "7e0a5951",
   "metadata": {},
   "source": [
    "The OLS Regression Results show the relationship between the variables \"Conc.M\" (The mean concreteness rating) and \"SUBTLEX\" (The SUBTLEX-US frequency count). The R-squared value of 0.002 suggests a weak correlation between the two variables, meaning that a very small proportion of the variation in \"Conc.M\" can be explained by \"SUBTLEX\". The F-statistic of 65.78 and a very low probability value (5.19e-16) indicates that the model is statistically significant. The coefficient for the variable \"SUBTLEX\" is 5.796e-06, which means that for every one-unit increase in \"SUBTLEX\", there is a corresponding 0.000005796 increase in \"Conc.M\". The p-value for \"SUBTLEX\" is 0.000 which means that the coefficient for \"SUBTLEX\" is statistically significant. This suggests that as the frequency of word usage in the language increases, the concreteness rating of the word may decrease slightly."
   ]
  },
  {
   "cell_type": "markdown",
   "id": "eb0abfe1",
   "metadata": {},
   "source": [
    "### Explore column Dom_Pos"
   ]
  },
  {
   "cell_type": "markdown",
   "id": "177ad58e",
   "metadata": {},
   "source": [
    "#### Distribution of 'Word' by 'Dom_Pos'"
   ]
  },
  {
   "cell_type": "code",
   "execution_count": 230,
   "id": "bc90f092",
   "metadata": {
    "scrolled": false
   },
   "outputs": [
    {
     "name": "stdout",
     "output_type": "stream",
     "text": [
      "Noun            14592\n",
      "Adjective        6112\n",
      "Verb             5369\n",
      "Adverb           1876\n",
      "Name              438\n",
      "Preposition        63\n",
      "Number             60\n",
      "Pronoun            58\n",
      "Interjection       51\n",
      "Conjunction        27\n",
      "Determiner         26\n",
      "0                  16\n",
      "Unclassified       11\n",
      "Article             4\n",
      "Ex                  1\n",
      "Letter              1\n",
      "Not                 1\n",
      "To                  1\n",
      "Name: Dom_Pos, dtype: int64\n"
     ]
    }
   ],
   "source": [
    "# \"Dom_Pos\" likely refers to the dominant position of an object or concept in the context of concreteness ratings. \n",
    "# find all type of dominant position in the Dom_Pos column\n",
    "# and count the number of times each type occurs in the column. / \n",
    "# The output should be a tab-separated list of the form:\n",
    "\n",
    "# count the number of times each type occurs in the column\n",
    "df['Dom_Pos'].value_counts()\n",
    "# output the result\n",
    "print(df['Dom_Pos'].value_counts())"
   ]
  },
  {
   "cell_type": "markdown",
   "id": "8f43eada",
   "metadata": {},
   "source": [
    "The outcome shows the percentage distribution of each grammatical category occurs in the \"Dom_Pos\" column. The most common category is \"Noun\" with 50.8%, followed by \"Adjective\" with 21.3%, and \"Verb\" with 18.7%. The least common categories are \"Letter\" and \"To\" with 0.03% each. This suggests that the majority of the words in the data set are nouns, followed by adjectives and verbs. The least common grammatical categories are letter and to. This information can be used to understand the distribution of words across different grammatical categories in the data set."
   ]
  },
  {
   "cell_type": "markdown",
   "id": "875d3237",
   "metadata": {},
   "source": [
    "#### Percentage distribution of 'Dom_Pos'"
   ]
  },
  {
   "cell_type": "code",
   "execution_count": 20,
   "id": "1246e49e",
   "metadata": {
    "scrolled": false
   },
   "outputs": [
    {
     "name": "stdout",
     "output_type": "stream",
     "text": [
      "Noun            0.508308\n",
      "Adjective       0.212910\n",
      "Verb            0.187028\n",
      "Adverb          0.065350\n",
      "Name            0.015258\n",
      "Preposition     0.002195\n",
      "Number          0.002090\n",
      "Pronoun         0.002020\n",
      "Interjection    0.001777\n",
      "Conjunction     0.000941\n",
      "Determiner      0.000906\n",
      "0               0.000557\n",
      "Unclassified    0.000383\n",
      "Article         0.000139\n",
      "Ex              0.000035\n",
      "Letter          0.000035\n",
      "Not             0.000035\n",
      "To              0.000035\n",
      "Name: Dom_Pos, dtype: float64\n"
     ]
    }
   ],
   "source": [
    "# get percentage distribution of 'Dom_Pos' column \n",
    "df['Dom_Pos'].value_counts(normalize=True)          \n",
    "# output the result\n",
    "print(df['Dom_Pos'].value_counts(normalize=True))"
   ]
  },
  {
   "cell_type": "code",
   "execution_count": 84,
   "id": "f8ef4f76",
   "metadata": {
    "scrolled": true
   },
   "outputs": [
    {
     "data": {
      "image/png": "[encoded data removed]",
      "text/plain": [
       "<Figure size 432x288 with 1 Axes>"
      ]
     },
     "metadata": {
      "needs_background": "light"
     },
     "output_type": "display_data"
    }
   ],
   "source": [
    "# visualize the result\n",
    "df['Dom_Pos'].value_counts(normalize=True).plot(kind='bar')\n",
    "plt.show()"
   ]
  },
  {
   "cell_type": "markdown",
   "id": "031dae24",
   "metadata": {},
   "source": [
    "#### How concreteness ratings vary across different grammatical categories?"
   ]
  },
  {
   "cell_type": "code",
   "execution_count": 105,
   "id": "012b4027",
   "metadata": {
    "scrolled": true
   },
   "outputs": [
    {
     "data": {
      "text/plain": [
       "Dom_Pos\n",
       "0               2.940000\n",
       "Adjective       2.495731\n",
       "Adverb          2.064531\n",
       "Article         1.657500\n",
       "Conjunction     1.637037\n",
       "Determiner      2.112308\n",
       "Ex              2.200000\n",
       "Interjection    2.388235\n",
       "Letter          3.130000\n",
       "Name            3.730297\n",
       "Not             2.080000\n",
       "Noun            3.529533\n",
       "Number          3.487000\n",
       "Preposition     2.292063\n",
       "Pronoun         2.763793\n",
       "To              1.550000\n",
       "Unclassified    3.855455\n",
       "Verb            2.923375\n",
       "Name: Conc.M, dtype: float64"
      ]
     },
     "execution_count": 105,
     "metadata": {},
     "output_type": "execute_result"
    }
   ],
   "source": [
    "# filter the data based on the values in the \"Dom_Pos\" column \n",
    "# to understand how concreteness ratings vary across different grammatical categories.\n",
    "\n",
    "df.groupby('Dom_Pos')['Conc.M'].mean()"
   ]
  },
  {
   "cell_type": "markdown",
   "id": "7e8e57bc",
   "metadata": {},
   "source": [
    "The outcome of this analysis shows the mean concreteness ratings for different grammatical categories represented in the column \"Dom_Pos\". The data suggests that there are variations in the concreteness ratings across different grammatical categories, with some categories such as \"Letter\" and \"Name\" having higher mean ratings compared to other categories like \"Article\" and \"To\". This suggests that words in certain grammatical categories may be perceived as more concrete than others. Additionally, it may be worth further investigating why certain categories have higher mean ratings and if this is consistent across different datasets. Overall, it can be concluded that grammatical category is a factor that can affect concreteness ratings."
   ]
  },
  {
   "cell_type": "code",
   "execution_count": 88,
   "id": "9bf46088",
   "metadata": {},
   "outputs": [
    {
     "data": {
      "text/plain": [
       "Ttest_indResult(statistic=39.79216254949787, pvalue=0.0)"
      ]
     },
     "execution_count": 88,
     "metadata": {},
     "output_type": "execute_result"
    }
   ],
   "source": [
    "# use statistical tests such as t-tests to compare the mean concreteness ratings across different grammatical categories\n",
    "# 1. t-test\n",
    "# 1.1. t-test for the noun and verb\n",
    "stats.ttest_ind(df.loc[df['Dom_Pos'] == 'Noun', 'Conc.M'], df.loc[df['Dom_Pos'] == 'Verb', 'Conc.M'])"
   ]
  },
  {
   "cell_type": "markdown",
   "id": "cddc9ef2",
   "metadata": {},
   "source": [
    "The statistic value of 39.79216254949787 represents the difference in means between the two categories and the p-value of 0.0 indicates that the difference in means is statistically significant. This means that the concreteness ratings vary significantly across different grammatical categories."
   ]
  },
  {
   "cell_type": "code",
   "execution_count": 99,
   "id": "4dee9ce5",
   "metadata": {},
   "outputs": [
    {
     "data": {
      "text/plain": [
       "(21827.345364395806,\n",
       " 0.0,\n",
       " 6205,\n",
       " array([[5.57355349e-04, 1.11471070e-03, 5.57355349e-04, ...,\n",
       "         8.41606577e-02, 4.18016512e-02, 1.01438673e-01],\n",
       "        [2.12909743e-01, 4.25819487e-01, 2.12909743e-01, ...,\n",
       "         3.21493712e+01, 1.59682307e+01, 3.87495733e+01],\n",
       "        [6.53499147e-02, 1.30699829e-01, 6.53499147e-02, ...,\n",
       "         9.86783711e+00, 4.90124360e+00, 1.18936845e+01],\n",
       "        ...,\n",
       "        [3.48347093e-05, 6.96694186e-05, 3.48347093e-05, ...,\n",
       "         5.26004110e-03, 2.61260320e-03, 6.33991709e-03],\n",
       "        [3.83181802e-04, 7.66363605e-04, 3.83181802e-04, ...,\n",
       "         5.78604522e-02, 2.87386352e-02, 6.97390880e-02],\n",
       "        [1.87027554e-01, 3.74055109e-01, 1.87027554e-01, ...,\n",
       "         2.82411607e+01, 1.40270666e+01, 3.40390149e+01]]))"
      ]
     },
     "execution_count": 99,
     "metadata": {},
     "output_type": "execute_result"
    }
   ],
   "source": [
    "# use visualization techniques such as chi-squared test, contingency table, and bar charts to visually\n",
    "# compare the distribution of concreteness ratings across different grammatical categories\n",
    "\n",
    "# 1. chi-squared test\n",
    "# 1.1. chi-squared test for the column and 'Dom_Pos' and 'Conc.M'\n",
    "stats.chi2_contingency(pd.crosstab(df['Dom_Pos'], df['Conc.M']))"
   ]
  },
  {
   "cell_type": "markdown",
   "id": "b2605eb1",
   "metadata": {},
   "source": [
    "In this case, the first value in the outcome (21827.345364395806) is the chi-squared statistic, which is a measure of how different the observed frequency of concreteness ratings is from the expected frequency. The second value (0.0) is the p-value, which is the probability that the observed frequency of concreteness ratings is different from the expected frequency by chance alone. The third value (6205) is the degrees of freedom, which is a measure of the number of independent observations in the sample. The fourth value is the contingency table, which is a matrix that shows the observed and expected frequencies of concreteness ratings across different grammatical categories.\n",
    "\n",
    "The p-value of 0.0 suggests that the observed frequency of concreteness ratings is very unlikely to be different from the expected frequency by chance alone, and that the difference is statistically significant. This means that there is a significant difference in the distribution of concreteness ratings across different grammatical categories in the \"Dom_Pos\" column. "
   ]
  },
  {
   "cell_type": "markdown",
   "id": "0af58613",
   "metadata": {},
   "source": [
    "#### Explore column  \"Dom_Pos\" with \"SUBTLEX\""
   ]
  },
  {
   "cell_type": "code",
   "execution_count": 206,
   "id": "fca4a515",
   "metadata": {
    "scrolled": false
   },
   "outputs": [
    {
     "data": {
      "text/plain": [
       "Dom_Pos\n",
       "0               1.431250e+01\n",
       "Adjective       3.474957e+02\n",
       "Adverb          2.171602e+03\n",
       "Article         6.665412e+05\n",
       "Conjunction     5.973156e+04\n",
       "Determiner      9.325065e+04\n",
       "Ex              2.217540e+05\n",
       "Interjection    1.885592e+04\n",
       "Letter          4.841000e+03\n",
       "Name            5.608219e+02\n",
       "Not             2.766730e+05\n",
       "Noun            3.885208e+02\n",
       "Number          6.982000e+03\n",
       "Preposition     4.776314e+04\n",
       "Pronoun         1.515625e+05\n",
       "To              1.156570e+06\n",
       "Unclassified    1.857273e+02\n",
       "Verb            1.742510e+03\n",
       "Name: SUBTLEX, dtype: float64"
      ]
     },
     "execution_count": 206,
     "metadata": {},
     "output_type": "execute_result"
    }
   ],
   "source": [
    "# relationship between column \"SUBTLEX\" with \"Dom_Pos\" \n",
    "df.groupby('Dom_Pos')['SUBTLEX'].mean()"
   ]
  },
  {
   "cell_type": "markdown",
   "id": "0928965e",
   "metadata": {},
   "source": [
    "The outcome shows the frequency count of each grammatical category in the 'Dom_Pos' column in relation to the 'SUBTLEX' column. It suggests that certain grammatical categories, such as verbs and pronouns, have higher frequency counts in the 'SUBTLEX' column. This information can be used to understand the relative frequency of different grammatical categories in the language. For example, the values for nouns, verbs, and pronouns suggest that these grammatical categories are more frequently used in the language compared to other categories such as 'Adjective', 'Adverb', 'Name' and so on."
   ]
  },
  {
   "cell_type": "markdown",
   "id": "74ec8c6b",
   "metadata": {},
   "source": [
    "#### Explore column \"Dom_Pos\" with 'Percent_known'"
   ]
  },
  {
   "cell_type": "code",
   "execution_count": 208,
   "id": "7931b4a8",
   "metadata": {
    "scrolled": false
   },
   "outputs": [
    {
     "data": {
      "text/plain": [
       "Dom_Pos\n",
       "0               0.937882\n",
       "Adjective       0.972168\n",
       "Adverb          0.972984\n",
       "Article         0.974074\n",
       "Conjunction     0.976185\n",
       "Determiner      0.994527\n",
       "Ex              1.000000\n",
       "Interjection    0.954548\n",
       "Letter          0.920000\n",
       "Name            0.947879\n",
       "Not             1.000000\n",
       "Noun            0.972039\n",
       "Number          0.991325\n",
       "Preposition     0.988762\n",
       "Pronoun         0.989602\n",
       "To              1.000000\n",
       "Unclassified    0.916981\n",
       "Verb            0.976446\n",
       "Name: Percent_known, dtype: float64"
      ]
     },
     "execution_count": 208,
     "metadata": {},
     "output_type": "execute_result"
    }
   ],
   "source": [
    "# relationship between column \"SUBTLEX\" with \"Percent_known\" \n",
    "df.groupby('Dom_Pos')['Percent_known'].mean()"
   ]
  },
  {
   "cell_type": "markdown",
   "id": "48217229",
   "metadata": {},
   "source": [
    "This outcome gives the average percentage of participants who knew the word (Percent_known) for each grammatical category in the column 'Dom_Pos'. The values range from 0.937 to 1.000. It can be seen that majority of the grammatical categories have a high percentage of participants who knew the word, with categories like 'Ex', 'To', 'Not' and 'Article' having a 100% of participants who knew the word. This suggests that words from these grammatical categories are likely to be commonly known and familiar to participants, while other categories like 'Interjection' and 'Unclassified' have a relatively lower percentage of participants who knew the word, indicating that words from these categories are less familiar to participants. Overall, the output suggests that the familiarity of the words varies across different grammatical categories."
   ]
  },
  {
   "cell_type": "markdown",
   "id": "3431396e",
   "metadata": {},
   "source": [
    "###  To augment the dataset"
   ]
  },
  {
   "cell_type": "code",
   "execution_count": 185,
   "id": "f83372f4",
   "metadata": {},
   "outputs": [],
   "source": [
    "# Get the length of the word in Word column and create a new column called Length\n",
    "df['Length'] = df['Word'].apply(lambda x: len(str(x)))"
   ]
  },
  {
   "cell_type": "code",
   "execution_count": 186,
   "id": "6d8f47ee",
   "metadata": {
    "scrolled": true
   },
   "outputs": [
    {
     "data": {
      "text/html": [
       "<div>\n",
       "<style scoped>\n",
       "    .dataframe tbody tr th:only-of-type {\n",
       "        vertical-align: middle;\n",
       "    }\n",
       "\n",
       "    .dataframe tbody tr th {\n",
       "        vertical-align: top;\n",
       "    }\n",
       "\n",
       "    .dataframe thead th {\n",
       "        text-align: right;\n",
       "    }\n",
       "</style>\n",
       "<table border=\"1\" class=\"dataframe\">\n",
       "  <thead>\n",
       "    <tr style=\"text-align: right;\">\n",
       "      <th></th>\n",
       "      <th>Word</th>\n",
       "      <th>Bigram</th>\n",
       "      <th>Conc.M</th>\n",
       "      <th>Conc.SD</th>\n",
       "      <th>Unknown</th>\n",
       "      <th>Total</th>\n",
       "      <th>Percent_known</th>\n",
       "      <th>SUBTLEX</th>\n",
       "      <th>Dom_Pos</th>\n",
       "      <th>Length</th>\n",
       "    </tr>\n",
       "  </thead>\n",
       "  <tbody>\n",
       "    <tr>\n",
       "      <th>0</th>\n",
       "      <td>roadsweeper</td>\n",
       "      <td>0</td>\n",
       "      <td>4.85</td>\n",
       "      <td>0.37</td>\n",
       "      <td>1</td>\n",
       "      <td>27</td>\n",
       "      <td>0.962963</td>\n",
       "      <td>0</td>\n",
       "      <td>0</td>\n",
       "      <td>11</td>\n",
       "    </tr>\n",
       "    <tr>\n",
       "      <th>1</th>\n",
       "      <td>traindriver</td>\n",
       "      <td>0</td>\n",
       "      <td>4.54</td>\n",
       "      <td>0.71</td>\n",
       "      <td>3</td>\n",
       "      <td>29</td>\n",
       "      <td>0.896552</td>\n",
       "      <td>0</td>\n",
       "      <td>0</td>\n",
       "      <td>11</td>\n",
       "    </tr>\n",
       "    <tr>\n",
       "      <th>2</th>\n",
       "      <td>tush</td>\n",
       "      <td>0</td>\n",
       "      <td>4.45</td>\n",
       "      <td>1.01</td>\n",
       "      <td>3</td>\n",
       "      <td>25</td>\n",
       "      <td>0.880000</td>\n",
       "      <td>66</td>\n",
       "      <td>0</td>\n",
       "      <td>4</td>\n",
       "    </tr>\n",
       "    <tr>\n",
       "      <th>3</th>\n",
       "      <td>hairdress</td>\n",
       "      <td>0</td>\n",
       "      <td>3.93</td>\n",
       "      <td>1.28</td>\n",
       "      <td>0</td>\n",
       "      <td>29</td>\n",
       "      <td>1.000000</td>\n",
       "      <td>1</td>\n",
       "      <td>0</td>\n",
       "      <td>9</td>\n",
       "    </tr>\n",
       "    <tr>\n",
       "      <th>4</th>\n",
       "      <td>pharmaceutics</td>\n",
       "      <td>0</td>\n",
       "      <td>3.77</td>\n",
       "      <td>1.41</td>\n",
       "      <td>4</td>\n",
       "      <td>26</td>\n",
       "      <td>0.846154</td>\n",
       "      <td>0</td>\n",
       "      <td>0</td>\n",
       "      <td>13</td>\n",
       "    </tr>\n",
       "  </tbody>\n",
       "</table>\n",
       "</div>"
      ],
      "text/plain": [
       "            Word  Bigram  Conc.M  Conc.SD  Unknown  Total  Percent_known  \\\n",
       "0    roadsweeper       0    4.85     0.37        1     27       0.962963   \n",
       "1    traindriver       0    4.54     0.71        3     29       0.896552   \n",
       "2           tush       0    4.45     1.01        3     25       0.880000   \n",
       "3      hairdress       0    3.93     1.28        0     29       1.000000   \n",
       "4  pharmaceutics       0    3.77     1.41        4     26       0.846154   \n",
       "\n",
       "   SUBTLEX Dom_Pos  Length  \n",
       "0        0       0      11  \n",
       "1        0       0      11  \n",
       "2       66       0       4  \n",
       "3        1       0       9  \n",
       "4        0       0      13  "
      ]
     },
     "execution_count": 186,
     "metadata": {},
     "output_type": "execute_result"
    }
   ],
   "source": [
    "# show the new column\n",
    "df.head()"
   ]
  },
  {
   "cell_type": "code",
   "execution_count": 187,
   "id": "31b62d61",
   "metadata": {
    "scrolled": false
   },
   "outputs": [
    {
     "data": {
      "image/png": "[encoded data removed]",
      "text/plain": [
       "<Figure size 432x288 with 1 Axes>"
      ]
     },
     "metadata": {
      "needs_background": "light"
     },
     "output_type": "display_data"
    }
   ],
   "source": [
    "# Exploring the relationship between concreteness ratings and word length\n",
    "# 1. scatter plots for the Conc.M (The mean concreteness rating ) and the length\n",
    "plt.scatter(df['Conc.M'], df['Length'])\n",
    "plt.xlabel('Concreteness rating')\n",
    "plt.ylabel('Length')\n",
    "plt.show()"
   ]
  },
  {
   "cell_type": "code",
   "execution_count": 188,
   "id": "9d99a349",
   "metadata": {
    "scrolled": true
   },
   "outputs": [
    {
     "data": {
      "text/plain": [
       "-0.2924785130266698"
      ]
     },
     "execution_count": 188,
     "metadata": {},
     "output_type": "execute_result"
    }
   ],
   "source": [
    "# Also to calculate the correlation coefficient between concreteness ratings and the Length to\n",
    "# see the correlation between the two variables being plotted.\n",
    "df['Conc.M'].corr(df['Length'])"
   ]
  },
  {
   "cell_type": "markdown",
   "id": "78788f18",
   "metadata": {},
   "source": [
    "The outcome of -0.29 for the correlation coefficient between the concreteness rating (Conc.M) and word length (Length) suggests a weak negative correlation between the two variables. This means that as the length of a word increases, the concreteness rating tends to decrease slightly. However, the correlation coefficient indicates that this relationship is not particularly strong."
   ]
  },
  {
   "cell_type": "markdown",
   "id": "ee5858f1",
   "metadata": {},
   "source": [
    "## Explore and analyze the 2nd dataset"
   ]
  },
  {
   "cell_type": "code",
   "execution_count": 21,
   "id": "ce86cf66",
   "metadata": {
    "scrolled": true
   },
   "outputs": [
    {
     "data": {
      "text/html": [
       "<div>\n",
       "<style scoped>\n",
       "    .dataframe tbody tr th:only-of-type {\n",
       "        vertical-align: middle;\n",
       "    }\n",
       "\n",
       "    .dataframe tbody tr th {\n",
       "        vertical-align: top;\n",
       "    }\n",
       "\n",
       "    .dataframe thead th {\n",
       "        text-align: right;\n",
       "    }\n",
       "</style>\n",
       "<table border=\"1\" class=\"dataframe\">\n",
       "  <thead>\n",
       "    <tr style=\"text-align: right;\">\n",
       "      <th></th>\n",
       "      <th>Word</th>\n",
       "      <th>OccurTotal</th>\n",
       "      <th>OccurNum</th>\n",
       "      <th>Freq_pm</th>\n",
       "      <th>Rating.Mean</th>\n",
       "      <th>Rating.SD</th>\n",
       "      <th>Dunno</th>\n",
       "    </tr>\n",
       "  </thead>\n",
       "  <tbody>\n",
       "    <tr>\n",
       "      <th>0</th>\n",
       "      <td>a</td>\n",
       "      <td>22</td>\n",
       "      <td>22</td>\n",
       "      <td>20415.274510</td>\n",
       "      <td>2.893384</td>\n",
       "      <td>1.21</td>\n",
       "      <td>1.000000</td>\n",
       "    </tr>\n",
       "    <tr>\n",
       "      <th>1</th>\n",
       "      <td>aardvark</td>\n",
       "      <td>18</td>\n",
       "      <td>18</td>\n",
       "      <td>0.411765</td>\n",
       "      <td>9.890000</td>\n",
       "      <td>3.66</td>\n",
       "      <td>1.000000</td>\n",
       "    </tr>\n",
       "    <tr>\n",
       "      <th>2</th>\n",
       "      <td>abacus</td>\n",
       "      <td>20</td>\n",
       "      <td>13</td>\n",
       "      <td>0.235294</td>\n",
       "      <td>8.690000</td>\n",
       "      <td>3.77</td>\n",
       "      <td>0.650000</td>\n",
       "    </tr>\n",
       "    <tr>\n",
       "      <th>3</th>\n",
       "      <td>abalone</td>\n",
       "      <td>18</td>\n",
       "      <td>13</td>\n",
       "      <td>0.509804</td>\n",
       "      <td>12.230000</td>\n",
       "      <td>3.54</td>\n",
       "      <td>0.722222</td>\n",
       "    </tr>\n",
       "    <tr>\n",
       "      <th>4</th>\n",
       "      <td>abandon</td>\n",
       "      <td>19</td>\n",
       "      <td>19</td>\n",
       "      <td>8.098039</td>\n",
       "      <td>8.320000</td>\n",
       "      <td>2.75</td>\n",
       "      <td>1.000000</td>\n",
       "    </tr>\n",
       "  </tbody>\n",
       "</table>\n",
       "</div>"
      ],
      "text/plain": [
       "       Word  OccurTotal  OccurNum       Freq_pm  Rating.Mean  Rating.SD  \\\n",
       "0         a          22        22  20415.274510     2.893384       1.21   \n",
       "1  aardvark          18        18      0.411765     9.890000       3.66   \n",
       "2    abacus          20        13      0.235294     8.690000       3.77   \n",
       "3   abalone          18        13      0.509804    12.230000       3.54   \n",
       "4   abandon          19        19      8.098039     8.320000       2.75   \n",
       "\n",
       "      Dunno  \n",
       "0  1.000000  \n",
       "1  1.000000  \n",
       "2  0.650000  \n",
       "3  0.722222  \n",
       "4  1.000000  "
      ]
     },
     "execution_count": 21,
     "metadata": {},
     "output_type": "execute_result"
    }
   ],
   "source": [
    "# read the data from the xlsx file\n",
    "data = pd.read_excel('AoA_ratings_Kuperman_et_al_BRM.xlsx')\n",
    "data.head() "
   ]
  },
  {
   "cell_type": "markdown",
   "id": "753389b0",
   "metadata": {},
   "source": [
    "### Explore the column Word"
   ]
  },
  {
   "cell_type": "markdown",
   "id": "896197c0",
   "metadata": {},
   "source": [
    "#### Explore the column Word itself"
   ]
  },
  {
   "cell_type": "code",
   "execution_count": 4,
   "id": "eabcb833",
   "metadata": {},
   "outputs": [
    {
     "name": "stdout",
     "output_type": "stream",
     "text": [
      "8762    eisteddfod\n",
      "Name: Word, dtype: object\n",
      "8762    25.0\n",
      "Name: Rating.Mean, dtype: float64\n",
      "17429    momma\n",
      "Name: Word, dtype: object\n",
      "17429    1.58\n",
      "Name: Rating.Mean, dtype: float64\n"
     ]
    }
   ],
   "source": [
    "# get the words from column Word (The word) that have the highest and \n",
    "# lowest number of ratings in the  column Rating.Mean (The mean AoA rating in years of age).\n",
    "\n",
    "print(data[data['Rating.Mean'] == data['Rating.Mean'].max()]['Word'])\n",
    "print(data[data['Rating.Mean'] == data['Rating.Mean'].max()]['Rating.Mean'])\n",
    "\n",
    "print(data[data['Rating.Mean'] == data['Rating.Mean'].min()]['Word'])\n",
    "print(data[data['Rating.Mean'] == data['Rating.Mean'].min()]['Rating.Mean'])"
   ]
  },
  {
   "cell_type": "code",
   "execution_count": 5,
   "id": "aa0245f9",
   "metadata": {},
   "outputs": [
    {
     "data": {
      "text/plain": [
       "count    31123.000000\n",
       "mean         8.050124\n",
       "std          2.582112\n",
       "min          1.000000\n",
       "25%          6.000000\n",
       "50%          8.000000\n",
       "75%         10.000000\n",
       "max         22.000000\n",
       "Name: Word, dtype: float64"
      ]
     },
     "execution_count": 5,
     "metadata": {},
     "output_type": "execute_result"
    }
   ],
   "source": [
    "# describe word length in the column \"Word\"\n",
    "data['Word'].str.len().describe()"
   ]
  },
  {
   "cell_type": "markdown",
   "id": "e73fbc3a",
   "metadata": {},
   "source": [
    "It can be inferred that the average length of the words in the dataset is around 8 characters. The mean value of 8.050124 and the median value of 8 indicate that the majority of the words in the dataset are of moderate length. The standard deviation of 2.582112 suggests that there is a fair degree of variability in the length of words in the dataset, with some words being significantly shorter or longer than the average. The minimum and maximum values of 1 and 22 respectively also support this conclusion, as it indicates that there are some very short words and some very long words in the dataset."
   ]
  },
  {
   "cell_type": "code",
   "execution_count": 11,
   "id": "ac93d8a0",
   "metadata": {
    "scrolled": true
   },
   "outputs": [
    {
     "data": {
      "text/plain": [
       "<AxesSubplot:>"
      ]
     },
     "execution_count": 11,
     "metadata": {},
     "output_type": "execute_result"
    },
    {
     "data": {
      "image/png": "[encoded data removed]",
      "text/plain": [
       "<Figure size 432x288 with 1 Axes>"
      ]
     },
     "metadata": {
      "needs_background": "light"
     },
     "output_type": "display_data"
    }
   ],
   "source": [
    "# look into the distribution of words by length (number of letters or characters) for the column \"Word\"\n",
    "data['Word'].str.len().hist(bins=20)"
   ]
  },
  {
   "cell_type": "markdown",
   "id": "ba2fef6d",
   "metadata": {},
   "source": [
    "From the histogram of the data, it can be inferred that the majority of the words in the dataset are of moderate length. The histogram illustrates that a significant proportion of the words are around 5-10 characters in length, which is consistent with the 25th percentile of 6 and 75th percentile of 10. The standard deviation of 2.582, indicates that there is a fair degree of variability in the length of words in the dataset, but the majority of the data points are concentrated close to the mean value, which suggests that the words in the dataset are generally of moderate length with few outliers."
   ]
  },
  {
   "cell_type": "markdown",
   "id": "43e36a7f",
   "metadata": {},
   "source": [
    "#### Examine the relationship between word Length and the AoA ratings"
   ]
  },
  {
   "cell_type": "code",
   "execution_count": 7,
   "id": "1b70e910",
   "metadata": {},
   "outputs": [
    {
     "data": {
      "text/html": [
       "<div>\n",
       "<style scoped>\n",
       "    .dataframe tbody tr th:only-of-type {\n",
       "        vertical-align: middle;\n",
       "    }\n",
       "\n",
       "    .dataframe tbody tr th {\n",
       "        vertical-align: top;\n",
       "    }\n",
       "\n",
       "    .dataframe thead th {\n",
       "        text-align: right;\n",
       "    }\n",
       "</style>\n",
       "<table border=\"1\" class=\"dataframe\">\n",
       "  <thead>\n",
       "    <tr style=\"text-align: right;\">\n",
       "      <th></th>\n",
       "      <th>Word</th>\n",
       "      <th>OccurTotal</th>\n",
       "      <th>OccurNum</th>\n",
       "      <th>Freq_pm</th>\n",
       "      <th>Rating.Mean</th>\n",
       "      <th>Rating.SD</th>\n",
       "      <th>Dunno</th>\n",
       "      <th>Word length</th>\n",
       "    </tr>\n",
       "  </thead>\n",
       "  <tbody>\n",
       "    <tr>\n",
       "      <th>0</th>\n",
       "      <td>a</td>\n",
       "      <td>22</td>\n",
       "      <td>22</td>\n",
       "      <td>20415.274510</td>\n",
       "      <td>2.893384</td>\n",
       "      <td>1.21</td>\n",
       "      <td>1.000000</td>\n",
       "      <td>1.0</td>\n",
       "    </tr>\n",
       "    <tr>\n",
       "      <th>1</th>\n",
       "      <td>aardvark</td>\n",
       "      <td>18</td>\n",
       "      <td>18</td>\n",
       "      <td>0.411765</td>\n",
       "      <td>9.890000</td>\n",
       "      <td>3.66</td>\n",
       "      <td>1.000000</td>\n",
       "      <td>8.0</td>\n",
       "    </tr>\n",
       "    <tr>\n",
       "      <th>2</th>\n",
       "      <td>abacus</td>\n",
       "      <td>20</td>\n",
       "      <td>13</td>\n",
       "      <td>0.235294</td>\n",
       "      <td>8.690000</td>\n",
       "      <td>3.77</td>\n",
       "      <td>0.650000</td>\n",
       "      <td>6.0</td>\n",
       "    </tr>\n",
       "    <tr>\n",
       "      <th>3</th>\n",
       "      <td>abalone</td>\n",
       "      <td>18</td>\n",
       "      <td>13</td>\n",
       "      <td>0.509804</td>\n",
       "      <td>12.230000</td>\n",
       "      <td>3.54</td>\n",
       "      <td>0.722222</td>\n",
       "      <td>7.0</td>\n",
       "    </tr>\n",
       "    <tr>\n",
       "      <th>4</th>\n",
       "      <td>abandon</td>\n",
       "      <td>19</td>\n",
       "      <td>19</td>\n",
       "      <td>8.098039</td>\n",
       "      <td>8.320000</td>\n",
       "      <td>2.75</td>\n",
       "      <td>1.000000</td>\n",
       "      <td>7.0</td>\n",
       "    </tr>\n",
       "  </tbody>\n",
       "</table>\n",
       "</div>"
      ],
      "text/plain": [
       "       Word  OccurTotal  OccurNum       Freq_pm  Rating.Mean  Rating.SD  \\\n",
       "0         a          22        22  20415.274510     2.893384       1.21   \n",
       "1  aardvark          18        18      0.411765     9.890000       3.66   \n",
       "2    abacus          20        13      0.235294     8.690000       3.77   \n",
       "3   abalone          18        13      0.509804    12.230000       3.54   \n",
       "4   abandon          19        19      8.098039     8.320000       2.75   \n",
       "\n",
       "      Dunno  Word length  \n",
       "0  1.000000          1.0  \n",
       "1  1.000000          8.0  \n",
       "2  0.650000          6.0  \n",
       "3  0.722222          7.0  \n",
       "4  1.000000          7.0  "
      ]
     },
     "execution_count": 7,
     "metadata": {},
     "output_type": "execute_result"
    }
   ],
   "source": [
    "# create a new column called \"Word length\" and add the word length to the data\n",
    "data['Word length'] = data['Word'].str.len()\n",
    "data.head()"
   ]
  },
  {
   "cell_type": "code",
   "execution_count": 12,
   "id": "f0912d90",
   "metadata": {
    "scrolled": false
   },
   "outputs": [
    {
     "data": {
      "text/plain": [
       "<AxesSubplot:xlabel='Word length', ylabel='Rating.Mean'>"
      ]
     },
     "execution_count": 12,
     "metadata": {},
     "output_type": "execute_result"
    },
    {
     "data": {
      "image/png": "[encoded data removed]",
      "text/plain": [
       "<Figure size 432x288 with 1 Axes>"
      ]
     },
     "metadata": {
      "needs_background": "light"
     },
     "output_type": "display_data"
    }
   ],
   "source": [
    "# Examine the relationship between \"word Length\" and the \"Rating.Mean\"\n",
    "data.plot.scatter(x='Word length', y='Rating.Mean')"
   ]
  },
  {
   "cell_type": "markdown",
   "id": "e7e83924",
   "metadata": {},
   "source": [
    "From the scatter plot, it can be observed that the majority of words with a length ranging between 2-15 are acquired within the age range of 1-20 years. Additionally, it appears that words with longer lengths tend to be acquired at a later age, specifically beyond the age of 15."
   ]
  },
  {
   "cell_type": "code",
   "execution_count": 405,
   "id": "25c62647",
   "metadata": {
    "scrolled": true
   },
   "outputs": [
    {
     "data": {
      "text/plain": [
       "(101012.98288778923,\n",
       " 0.0,\n",
       " 37758,\n",
       " array([[6.43004115e-05, 6.43004115e-05, 6.43004115e-05, ...,\n",
       "         6.43004115e-05, 1.28600823e-04, 6.43004115e-05],\n",
       "        [1.12525720e-03, 1.12525720e-03, 1.12525720e-03, ...,\n",
       "         1.12525720e-03, 2.25051440e-03, 1.12525720e-03],\n",
       "        [1.75540123e-02, 1.75540123e-02, 1.75540123e-02, ...,\n",
       "         1.75540123e-02, 3.51080247e-02, 1.75540123e-02],\n",
       "        ...,\n",
       "        [1.28600823e-04, 1.28600823e-04, 1.28600823e-04, ...,\n",
       "         1.28600823e-04, 2.57201646e-04, 1.28600823e-04],\n",
       "        [3.21502058e-05, 3.21502058e-05, 3.21502058e-05, ...,\n",
       "         3.21502058e-05, 6.43004115e-05, 3.21502058e-05],\n",
       "        [3.21502058e-05, 3.21502058e-05, 3.21502058e-05, ...,\n",
       "         3.21502058e-05, 6.43004115e-05, 3.21502058e-05]]))"
      ]
     },
     "execution_count": 405,
     "metadata": {},
     "output_type": "execute_result"
    }
   ],
   "source": [
    "# Also try to perform a chi-squared test to determine if there is a significant \n",
    "# association between the 'Word length' and 'Rating.Mean' variables.\n",
    "\n",
    "from scipy.stats import chi2_contingency\n",
    "contingency_table = pd.crosstab(data['Word length'], data['Rating.Mean'])\n",
    "chi2_contingency(contingency_table)"
   ]
  },
  {
   "cell_type": "markdown",
   "id": "07cad5f4",
   "metadata": {},
   "source": [
    "In conclusion, the chi-squared test indicates that there is a significant association between the column \"Word length\" and the column \"Rating.Mean\" (The mean AoA rating in years of age) with a very low p-value, which means that we reject the null hypothesis that there is no association between these two variables. This means that the length of the word and the mean age of acquisition are related in some way."
   ]
  },
  {
   "cell_type": "markdown",
   "id": "b287e4af",
   "metadata": {},
   "source": [
    "###  Explore the column OccurTotal"
   ]
  },
  {
   "cell_type": "markdown",
   "id": "1d53be18",
   "metadata": {},
   "source": [
    "#### Examining the distribution of word occurrences"
   ]
  },
  {
   "cell_type": "code",
   "execution_count": 359,
   "id": "5de0961e",
   "metadata": {
    "scrolled": true
   },
   "outputs": [
    {
     "data": {
      "text/plain": [
       "<AxesSubplot:>"
      ]
     },
     "execution_count": 359,
     "metadata": {},
     "output_type": "execute_result"
    },
    {
     "data": {
      "image/png": "[encoded data removed]",
      "text/plain": [
       "<Figure size 432x288 with 1 Axes>"
      ]
     },
     "metadata": {
      "needs_background": "light"
     },
     "output_type": "display_data"
    }
   ],
   "source": [
    "# examine the distribution of word occurrences in the column \"OccurTotal\"\n",
    "data['OccurTotal'].hist(bins=20)"
   ]
  },
  {
   "cell_type": "code",
   "execution_count": 360,
   "id": "a6f1aedc",
   "metadata": {
    "scrolled": true
   },
   "outputs": [
    {
     "data": {
      "text/html": [
       "<div>\n",
       "<style scoped>\n",
       "    .dataframe tbody tr th:only-of-type {\n",
       "        vertical-align: middle;\n",
       "    }\n",
       "\n",
       "    .dataframe tbody tr th {\n",
       "        vertical-align: top;\n",
       "    }\n",
       "\n",
       "    .dataframe thead th {\n",
       "        text-align: right;\n",
       "    }\n",
       "</style>\n",
       "<table border=\"1\" class=\"dataframe\">\n",
       "  <thead>\n",
       "    <tr style=\"text-align: right;\">\n",
       "      <th></th>\n",
       "      <th>OccurTotal</th>\n",
       "    </tr>\n",
       "  </thead>\n",
       "  <tbody>\n",
       "    <tr>\n",
       "      <th>count</th>\n",
       "      <td>31124.000000</td>\n",
       "    </tr>\n",
       "    <tr>\n",
       "      <th>mean</th>\n",
       "      <td>22.918519</td>\n",
       "    </tr>\n",
       "    <tr>\n",
       "      <th>std</th>\n",
       "      <td>85.072469</td>\n",
       "    </tr>\n",
       "    <tr>\n",
       "      <th>min</th>\n",
       "      <td>15.000000</td>\n",
       "    </tr>\n",
       "    <tr>\n",
       "      <th>25%</th>\n",
       "      <td>18.000000</td>\n",
       "    </tr>\n",
       "    <tr>\n",
       "      <th>50%</th>\n",
       "      <td>19.000000</td>\n",
       "    </tr>\n",
       "    <tr>\n",
       "      <th>75%</th>\n",
       "      <td>20.000000</td>\n",
       "    </tr>\n",
       "    <tr>\n",
       "      <th>max</th>\n",
       "      <td>1939.000000</td>\n",
       "    </tr>\n",
       "  </tbody>\n",
       "</table>\n",
       "</div>"
      ],
      "text/plain": [
       "         OccurTotal\n",
       "count  31124.000000\n",
       "mean      22.918519\n",
       "std       85.072469\n",
       "min       15.000000\n",
       "25%       18.000000\n",
       "50%       19.000000\n",
       "75%       20.000000\n",
       "max     1939.000000"
      ]
     },
     "execution_count": 360,
     "metadata": {},
     "output_type": "execute_result"
    }
   ],
   "source": [
    "data[['OccurTotal']].describe()"
   ]
  },
  {
   "cell_type": "markdown",
   "id": "634e234c",
   "metadata": {},
   "source": [
    "This suggests that the data used to calculate these statistics is likely a large dataset of word occurrences in the trimmed data. The mean number of occurrences is 22.918519, with a standard deviation of 85.072469. This means that the majority of the words in the dataset have an occurrence rate of around 22 times, but there is a large variation, with some words occurring much more or less frequently. The minimum number of occurrences is 15, and the maximum number of occurrences is 1939."
   ]
  },
  {
   "cell_type": "code",
   "execution_count": 24,
   "id": "ebcaca55",
   "metadata": {},
   "outputs": [
    {
     "data": {
      "text/html": [
       "<div>\n",
       "<style scoped>\n",
       "    .dataframe tbody tr th:only-of-type {\n",
       "        vertical-align: middle;\n",
       "    }\n",
       "\n",
       "    .dataframe tbody tr th {\n",
       "        vertical-align: top;\n",
       "    }\n",
       "\n",
       "    .dataframe thead th {\n",
       "        text-align: right;\n",
       "    }\n",
       "</style>\n",
       "<table border=\"1\" class=\"dataframe\">\n",
       "  <thead>\n",
       "    <tr style=\"text-align: right;\">\n",
       "      <th></th>\n",
       "      <th>Word</th>\n",
       "      <th>OccurTotal</th>\n",
       "      <th>OccurNum</th>\n",
       "      <th>Freq_pm</th>\n",
       "      <th>Rating.Mean</th>\n",
       "      <th>Rating.SD</th>\n",
       "      <th>Dunno</th>\n",
       "    </tr>\n",
       "  </thead>\n",
       "  <tbody>\n",
       "    <tr>\n",
       "      <th>0</th>\n",
       "      <td>a</td>\n",
       "      <td>22</td>\n",
       "      <td>22</td>\n",
       "      <td>20415.274510</td>\n",
       "      <td>2.893384</td>\n",
       "      <td>1.21</td>\n",
       "      <td>1.000000</td>\n",
       "    </tr>\n",
       "    <tr>\n",
       "      <th>6</th>\n",
       "      <td>abandonment</td>\n",
       "      <td>22</td>\n",
       "      <td>22</td>\n",
       "      <td>0.960784</td>\n",
       "      <td>10.270000</td>\n",
       "      <td>2.57</td>\n",
       "      <td>1.000000</td>\n",
       "    </tr>\n",
       "    <tr>\n",
       "      <th>10</th>\n",
       "      <td>abatement</td>\n",
       "      <td>21</td>\n",
       "      <td>17</td>\n",
       "      <td>0.058824</td>\n",
       "      <td>15.120000</td>\n",
       "      <td>2.78</td>\n",
       "      <td>0.809524</td>\n",
       "    </tr>\n",
       "    <tr>\n",
       "      <th>12</th>\n",
       "      <td>abbacy</td>\n",
       "      <td>21</td>\n",
       "      <td>2</td>\n",
       "      <td>NaN</td>\n",
       "      <td>14.500000</td>\n",
       "      <td>0.71</td>\n",
       "      <td>0.095238</td>\n",
       "    </tr>\n",
       "    <tr>\n",
       "      <th>14</th>\n",
       "      <td>abbey</td>\n",
       "      <td>21</td>\n",
       "      <td>18</td>\n",
       "      <td>3.176471</td>\n",
       "      <td>13.060000</td>\n",
       "      <td>3.59</td>\n",
       "      <td>0.857143</td>\n",
       "    </tr>\n",
       "    <tr>\n",
       "      <th>...</th>\n",
       "      <td>...</td>\n",
       "      <td>...</td>\n",
       "      <td>...</td>\n",
       "      <td>...</td>\n",
       "      <td>...</td>\n",
       "      <td>...</td>\n",
       "      <td>...</td>\n",
       "    </tr>\n",
       "    <tr>\n",
       "      <th>31094</th>\n",
       "      <td>zillion</td>\n",
       "      <td>37</td>\n",
       "      <td>36</td>\n",
       "      <td>1.313725</td>\n",
       "      <td>8.670000</td>\n",
       "      <td>3.11</td>\n",
       "      <td>0.972973</td>\n",
       "    </tr>\n",
       "    <tr>\n",
       "      <th>31100</th>\n",
       "      <td>zip</td>\n",
       "      <td>37</td>\n",
       "      <td>37</td>\n",
       "      <td>7.627451</td>\n",
       "      <td>5.300000</td>\n",
       "      <td>2.70</td>\n",
       "      <td>1.000000</td>\n",
       "    </tr>\n",
       "    <tr>\n",
       "      <th>31116</th>\n",
       "      <td>zoological</td>\n",
       "      <td>21</td>\n",
       "      <td>20</td>\n",
       "      <td>0.156863</td>\n",
       "      <td>12.450000</td>\n",
       "      <td>3.63</td>\n",
       "      <td>0.952381</td>\n",
       "    </tr>\n",
       "    <tr>\n",
       "      <th>31119</th>\n",
       "      <td>zoom</td>\n",
       "      <td>37</td>\n",
       "      <td>37</td>\n",
       "      <td>3.549020</td>\n",
       "      <td>8.570000</td>\n",
       "      <td>3.30</td>\n",
       "      <td>1.000000</td>\n",
       "    </tr>\n",
       "    <tr>\n",
       "      <th>31123</th>\n",
       "      <td>zygote</td>\n",
       "      <td>35</td>\n",
       "      <td>32</td>\n",
       "      <td>0.137255</td>\n",
       "      <td>15.380000</td>\n",
       "      <td>2.96</td>\n",
       "      <td>0.914286</td>\n",
       "    </tr>\n",
       "  </tbody>\n",
       "</table>\n",
       "<p>3102 rows × 7 columns</p>\n",
       "</div>"
      ],
      "text/plain": [
       "              Word  OccurTotal  OccurNum       Freq_pm  Rating.Mean  \\\n",
       "0                a          22        22  20415.274510     2.893384   \n",
       "6      abandonment          22        22      0.960784    10.270000   \n",
       "10       abatement          21        17      0.058824    15.120000   \n",
       "12          abbacy          21         2           NaN    14.500000   \n",
       "14           abbey          21        18      3.176471    13.060000   \n",
       "...            ...         ...       ...           ...          ...   \n",
       "31094      zillion          37        36      1.313725     8.670000   \n",
       "31100          zip          37        37      7.627451     5.300000   \n",
       "31116   zoological          21        20      0.156863    12.450000   \n",
       "31119         zoom          37        37      3.549020     8.570000   \n",
       "31123       zygote          35        32      0.137255    15.380000   \n",
       "\n",
       "       Rating.SD     Dunno  \n",
       "0           1.21  1.000000  \n",
       "6           2.57  1.000000  \n",
       "10          2.78  0.809524  \n",
       "12          0.71  0.095238  \n",
       "14          3.59  0.857143  \n",
       "...          ...       ...  \n",
       "31094       3.11  0.972973  \n",
       "31100       2.70  1.000000  \n",
       "31116       3.63  0.952381  \n",
       "31119       3.30  1.000000  \n",
       "31123       2.96  0.914286  \n",
       "\n",
       "[3102 rows x 7 columns]"
      ]
     },
     "execution_count": 24,
     "metadata": {},
     "output_type": "execute_result"
    }
   ],
   "source": [
    "# show the words with number of occurrences more than 20 in the column \"OccurTotal\" \n",
    "data[data['OccurTotal'] > 20]  "
   ]
  },
  {
   "cell_type": "code",
   "execution_count": 361,
   "id": "7af3d928",
   "metadata": {
    "scrolled": false
   },
   "outputs": [
    {
     "data": {
      "text/plain": [
       "10110    feline\n",
       "Name: Word, dtype: object"
      ]
     },
     "execution_count": 361,
     "metadata": {},
     "output_type": "execute_result"
    }
   ],
   "source": [
    "# show the word with maximum number of occurrences in the column \"OccurTotal\"\n",
    "data[data['OccurTotal'] == data['OccurTotal'].max()]['Word']"
   ]
  },
  {
   "cell_type": "code",
   "execution_count": 25,
   "id": "dca7ba2b",
   "metadata": {},
   "outputs": [
    {
     "data": {
      "text/html": [
       "<div>\n",
       "<style scoped>\n",
       "    .dataframe tbody tr th:only-of-type {\n",
       "        vertical-align: middle;\n",
       "    }\n",
       "\n",
       "    .dataframe tbody tr th {\n",
       "        vertical-align: top;\n",
       "    }\n",
       "\n",
       "    .dataframe thead th {\n",
       "        text-align: right;\n",
       "    }\n",
       "</style>\n",
       "<table border=\"1\" class=\"dataframe\">\n",
       "  <thead>\n",
       "    <tr style=\"text-align: right;\">\n",
       "      <th></th>\n",
       "      <th>Word</th>\n",
       "      <th>OccurTotal</th>\n",
       "      <th>OccurNum</th>\n",
       "      <th>Freq_pm</th>\n",
       "      <th>Rating.Mean</th>\n",
       "      <th>Rating.SD</th>\n",
       "      <th>Dunno</th>\n",
       "    </tr>\n",
       "  </thead>\n",
       "  <tbody>\n",
       "    <tr>\n",
       "      <th>57</th>\n",
       "      <td>aborning</td>\n",
       "      <td>17</td>\n",
       "      <td>4</td>\n",
       "      <td>0.019608</td>\n",
       "      <td>13.25</td>\n",
       "      <td>3.77</td>\n",
       "      <td>0.235294</td>\n",
       "    </tr>\n",
       "    <tr>\n",
       "      <th>3807</th>\n",
       "      <td>campstool</td>\n",
       "      <td>17</td>\n",
       "      <td>5</td>\n",
       "      <td>NaN</td>\n",
       "      <td>13.60</td>\n",
       "      <td>2.61</td>\n",
       "      <td>0.294118</td>\n",
       "    </tr>\n",
       "    <tr>\n",
       "      <th>6625</th>\n",
       "      <td>cutaneous</td>\n",
       "      <td>17</td>\n",
       "      <td>9</td>\n",
       "      <td>0.058824</td>\n",
       "      <td>14.67</td>\n",
       "      <td>3.00</td>\n",
       "      <td>0.529412</td>\n",
       "    </tr>\n",
       "    <tr>\n",
       "      <th>9590</th>\n",
       "      <td>execration</td>\n",
       "      <td>17</td>\n",
       "      <td>7</td>\n",
       "      <td>NaN</td>\n",
       "      <td>14.57</td>\n",
       "      <td>2.94</td>\n",
       "      <td>0.411765</td>\n",
       "    </tr>\n",
       "    <tr>\n",
       "      <th>13343</th>\n",
       "      <td>hydrometer</td>\n",
       "      <td>17</td>\n",
       "      <td>11</td>\n",
       "      <td>NaN</td>\n",
       "      <td>14.55</td>\n",
       "      <td>2.84</td>\n",
       "      <td>0.647059</td>\n",
       "    </tr>\n",
       "    <tr>\n",
       "      <th>13603</th>\n",
       "      <td>immiscible</td>\n",
       "      <td>17</td>\n",
       "      <td>5</td>\n",
       "      <td>NaN</td>\n",
       "      <td>13.00</td>\n",
       "      <td>4.18</td>\n",
       "      <td>0.294118</td>\n",
       "    </tr>\n",
       "    <tr>\n",
       "      <th>16856</th>\n",
       "      <td>menfolk</td>\n",
       "      <td>17</td>\n",
       "      <td>13</td>\n",
       "      <td>0.196078</td>\n",
       "      <td>10.23</td>\n",
       "      <td>3.00</td>\n",
       "      <td>0.764706</td>\n",
       "    </tr>\n",
       "    <tr>\n",
       "      <th>18819</th>\n",
       "      <td>openhanded</td>\n",
       "      <td>15</td>\n",
       "      <td>15</td>\n",
       "      <td>NaN</td>\n",
       "      <td>9.60</td>\n",
       "      <td>2.10</td>\n",
       "      <td>1.000000</td>\n",
       "    </tr>\n",
       "  </tbody>\n",
       "</table>\n",
       "</div>"
      ],
      "text/plain": [
       "             Word  OccurTotal  OccurNum   Freq_pm  Rating.Mean  Rating.SD  \\\n",
       "57       aborning          17         4  0.019608        13.25       3.77   \n",
       "3807    campstool          17         5       NaN        13.60       2.61   \n",
       "6625    cutaneous          17         9  0.058824        14.67       3.00   \n",
       "9590   execration          17         7       NaN        14.57       2.94   \n",
       "13343  hydrometer          17        11       NaN        14.55       2.84   \n",
       "13603  immiscible          17         5       NaN        13.00       4.18   \n",
       "16856     menfolk          17        13  0.196078        10.23       3.00   \n",
       "18819  openhanded          15        15       NaN         9.60       2.10   \n",
       "\n",
       "          Dunno  \n",
       "57     0.235294  \n",
       "3807   0.294118  \n",
       "6625   0.529412  \n",
       "9590   0.411765  \n",
       "13343  0.647059  \n",
       "13603  0.294118  \n",
       "16856  0.764706  \n",
       "18819  1.000000  "
      ]
     },
     "execution_count": 25,
     "metadata": {},
     "output_type": "execute_result"
    }
   ],
   "source": [
    "# show the words only with number of occurrences less than 18 in the column \"OccurTotal\" \n",
    "data[data['OccurTotal'] < 18]"
   ]
  },
  {
   "cell_type": "code",
   "execution_count": 29,
   "id": "fe0bfe01",
   "metadata": {},
   "outputs": [
    {
     "data": {
      "text/plain": [
       "18819    openhanded\n",
       "Name: Word, dtype: object"
      ]
     },
     "execution_count": 29,
     "metadata": {},
     "output_type": "execute_result"
    }
   ],
   "source": [
    "# show AOA ratings for the word with maximum number of occurrences in the column \"OccurTotal\"\n",
    "data[data['OccurTotal'] == data['OccurTotal'].min()]['Word'] "
   ]
  },
  {
   "cell_type": "markdown",
   "id": "6429c303",
   "metadata": {},
   "source": [
    "#### Examining the relationship between OccurTotal and Rating.Mean"
   ]
  },
  {
   "cell_type": "code",
   "execution_count": 365,
   "id": "14d980e5",
   "metadata": {
    "scrolled": true
   },
   "outputs": [
    {
     "data": {
      "text/plain": [
       "<AxesSubplot:xlabel='OccurTotal', ylabel='Rating.Mean'>"
      ]
     },
     "execution_count": 365,
     "metadata": {},
     "output_type": "execute_result"
    },
    {
     "data": {
      "image/png": "[encoded data removed]",
      "text/plain": [
       "<Figure size 432x288 with 1 Axes>"
      ]
     },
     "metadata": {
      "needs_background": "light"
     },
     "output_type": "display_data"
    }
   ],
   "source": [
    "# Examining the relationship between OccurTotal and Rating.Mean\n",
    "data.plot.scatter(x='OccurTotal', y='Rating.Mean')"
   ]
  },
  {
   "cell_type": "code",
   "execution_count": 366,
   "id": "d32ea065",
   "metadata": {},
   "outputs": [
    {
     "data": {
      "text/plain": [
       "-0.04411420687346574"
      ]
     },
     "execution_count": 366,
     "metadata": {},
     "output_type": "execute_result"
    }
   ],
   "source": [
    "# correlation between OccurTotal and Rating.Mean\n",
    "data['OccurTotal'].corr(data['Rating.Mean'])"
   ]
  },
  {
   "cell_type": "markdown",
   "id": "62c41bb2",
   "metadata": {},
   "source": [
    "The correlation coefficient value of -0.04411420687346574 indicates a very weak negative correlation between the two variables. This suggests that as the number of times a word occurs in the trimmed data increases, the Age of Acquisition (AoA) rating of that word tends to decrease slightly. This implies that words that occur more frequently in the trimmed data tend to have a lower AoA rating than words that occur less frequently."
   ]
  },
  {
   "cell_type": "markdown",
   "id": "cddf2e56",
   "metadata": {},
   "source": [
    "#### Examining the relationship between OccurTotal and OccurNum"
   ]
  },
  {
   "cell_type": "code",
   "execution_count": 383,
   "id": "471fd7f9",
   "metadata": {},
   "outputs": [
    {
     "data": {
      "text/plain": [
       "0.9982751176611648"
      ]
     },
     "execution_count": 383,
     "metadata": {},
     "output_type": "execute_result"
    },
    {
     "data": {
      "image/png": "[encoded data removed]",
      "text/plain": [
       "<Figure size 432x288 with 1 Axes>"
      ]
     },
     "metadata": {
      "needs_background": "light"
     },
     "output_type": "display_data"
    }
   ],
   "source": [
    "# examine the relationship between the number of times a word occurs in the trimmed data (OccurTotal) \n",
    "# and the number of participants who gave numeric ratings for the word (OccurNum)\n",
    "\n",
    "# Examining the relationship between OccurTotal and OccurNum\n",
    "data.plot.scatter(x='OccurTotal', y='OccurNum')\n",
    "# correlation between OccurTotal and OccurNum\n",
    "data['OccurTotal'].corr(data['OccurNum'])"
   ]
  },
  {
   "cell_type": "markdown",
   "id": "dca1ba43",
   "metadata": {},
   "source": [
    "With a correlation coefficient of 0.9982751176611648, it suggests that there is an extremely strong positive correlation between the two variables. This means that as the number of occurrences of a word increases, the number of people who gave numeric ratings for the word also tends to increase, indicating that people are more familiar with words that occur more frequently."
   ]
  },
  {
   "cell_type": "markdown",
   "id": "6b5bb32d",
   "metadata": {},
   "source": [
    "###  Explore the column Rating.Mean and Rating.SD"
   ]
  },
  {
   "cell_type": "code",
   "execution_count": 248,
   "id": "b0b72f6b",
   "metadata": {
    "scrolled": false
   },
   "outputs": [
    {
     "data": {
      "text/html": [
       "<div>\n",
       "<style scoped>\n",
       "    .dataframe tbody tr th:only-of-type {\n",
       "        vertical-align: middle;\n",
       "    }\n",
       "\n",
       "    .dataframe tbody tr th {\n",
       "        vertical-align: top;\n",
       "    }\n",
       "\n",
       "    .dataframe thead th {\n",
       "        text-align: right;\n",
       "    }\n",
       "</style>\n",
       "<table border=\"1\" class=\"dataframe\">\n",
       "  <thead>\n",
       "    <tr style=\"text-align: right;\">\n",
       "      <th></th>\n",
       "      <th>Rating.Mean</th>\n",
       "      <th>Rating.SD</th>\n",
       "    </tr>\n",
       "  </thead>\n",
       "  <tbody>\n",
       "    <tr>\n",
       "      <th>count</th>\n",
       "      <td>31105.000000</td>\n",
       "      <td>31046.000000</td>\n",
       "    </tr>\n",
       "    <tr>\n",
       "      <th>mean</th>\n",
       "      <td>11.000033</td>\n",
       "      <td>3.187698</td>\n",
       "    </tr>\n",
       "    <tr>\n",
       "      <th>std</th>\n",
       "      <td>3.044179</td>\n",
       "      <td>0.904152</td>\n",
       "    </tr>\n",
       "    <tr>\n",
       "      <th>min</th>\n",
       "      <td>1.580000</td>\n",
       "      <td>0.000000</td>\n",
       "    </tr>\n",
       "    <tr>\n",
       "      <th>25%</th>\n",
       "      <td>8.940000</td>\n",
       "      <td>2.570000</td>\n",
       "    </tr>\n",
       "    <tr>\n",
       "      <th>50%</th>\n",
       "      <td>11.170000</td>\n",
       "      <td>3.110000</td>\n",
       "    </tr>\n",
       "    <tr>\n",
       "      <th>75%</th>\n",
       "      <td>13.200000</td>\n",
       "      <td>3.730000</td>\n",
       "    </tr>\n",
       "    <tr>\n",
       "      <th>max</th>\n",
       "      <td>25.000000</td>\n",
       "      <td>9.900000</td>\n",
       "    </tr>\n",
       "  </tbody>\n",
       "</table>\n",
       "</div>"
      ],
      "text/plain": [
       "        Rating.Mean     Rating.SD\n",
       "count  31105.000000  31046.000000\n",
       "mean      11.000033      3.187698\n",
       "std        3.044179      0.904152\n",
       "min        1.580000      0.000000\n",
       "25%        8.940000      2.570000\n",
       "50%       11.170000      3.110000\n",
       "75%       13.200000      3.730000\n",
       "max       25.000000      9.900000"
      ]
     },
     "execution_count": 248,
     "metadata": {},
     "output_type": "execute_result"
    }
   ],
   "source": [
    "# Calculate the mean, median, and standard deviation of the Age of Acquisition (AoA) ratings \n",
    "# in column Rating.Mean and \"Rating.SD\"\n",
    "\n",
    "# describe the column \"Rating.Mean\" and column \"Rating.SD\"\n",
    "data[['Rating.Mean', 'Rating.SD']].describe()"
   ]
  },
  {
   "cell_type": "markdown",
   "id": "154a3831",
   "metadata": {},
   "source": [
    "In conclusion, the outcome presented in this analysis is a summary of the statistics for the columns \"Rating.Mean\" and \"Rating.SD\" in a dataset. The column \"Rating.Mean\" is determined to be the mean Age of Acquisition (AoA) rating in years for a set of words, and the column \"Rating.SD\" is determined to be the standard deviation of the AoA ratings for the same set of words. The data suggests that the dataset used to calculate these statistics was likely a large dataset of AoA ratings for a set of words. The mean AoA rating is 11.000033 years old and the standard deviation is 3.187698, indicating that the majority of the words have an AoA rating around 11 years old with a slight variation of 3.187698. The minimum and maximum values of the AoA rating are 1.58 and 25 years old, respectively, indicating that the youngest word in the dataset was learned at 1.58 years old and the oldest word was learned at 25 years old. Additionally, the statistics show that the dataset has 31105 observations for the column \"Rating.Mean\" and 31046 observations for the column \"Rating.SD\", which may indicate that some observations are missing or that the data is not complete. However, the relatively consistent sample size for both columns suggests that the dataset is relatively complete and the sample size is consistent."
   ]
  },
  {
   "cell_type": "code",
   "execution_count": 380,
   "id": "062fbe25",
   "metadata": {
    "scrolled": true
   },
   "outputs": [
    {
     "data": {
      "text/plain": [
       "<AxesSubplot:>"
      ]
     },
     "execution_count": 380,
     "metadata": {},
     "output_type": "execute_result"
    },
    {
     "data": {
      "image/png": "[encoded data removed]",
      "text/plain": [
       "<Figure size 432x288 with 1 Axes>"
      ]
     },
     "metadata": {
      "needs_background": "light"
     },
     "output_type": "display_data"
    }
   ],
   "source": [
    "# It's also a good idea to visualize the data to\n",
    "# have a better understanding of the distribution of the mean AoA rating in years of age \n",
    "# and its the standard deviation in the dataset.\n",
    "\n",
    "# examine the distribution of the AoA ratings (mean and SD) in the column \"Rating.Mean\" and \"Rating.SD\"\n",
    "data['Rating.Mean'].hist(bins=20)\n",
    "data['Rating.SD'].hist(bins=20)"
   ]
  },
  {
   "cell_type": "markdown",
   "id": "8f7b649f",
   "metadata": {},
   "source": [
    "Regarding the histogram of the column \"Rating.Mean\", the sample size is large enough (31105 observations) and the mean (11.000033) and standard deviation (3.044179) are relatively close to each other, this means that the distribution of the data is likely to be roughly bell-shaped and symmetric, with the majority of data points concentrated in the middle of the distribution around 11 years old."
   ]
  },
  {
   "cell_type": "code",
   "execution_count": 30,
   "id": "d4a72f0b",
   "metadata": {
    "scrolled": true
   },
   "outputs": [
    {
     "data": {
      "text/plain": [
       "<AxesSubplot:xlabel='Rating.Mean', ylabel='Rating.SD'>"
      ]
     },
     "execution_count": 30,
     "metadata": {},
     "output_type": "execute_result"
    },
    {
     "data": {
      "image/png": "[encoded data removed]",
      "text/plain": [
       "<Figure size 432x288 with 1 Axes>"
      ]
     },
     "metadata": {
      "needs_background": "light"
     },
     "output_type": "display_data"
    }
   ],
   "source": [
    "# also plot a scatter plot to visualize the relationship between the two variables\n",
    "data.plot.scatter(x='Rating.Mean', y='Rating.SD')"
   ]
  },
  {
   "cell_type": "code",
   "execution_count": 354,
   "id": "68b5931c",
   "metadata": {},
   "outputs": [
    {
     "data": {
      "text/plain": [
       "0.45161523947903287"
      ]
     },
     "execution_count": 354,
     "metadata": {},
     "output_type": "execute_result"
    }
   ],
   "source": [
    "# calculate the correlation coefficient between the two variables\n",
    "data['Rating.Mean'].corr(data['Rating.SD'])"
   ]
  },
  {
   "cell_type": "markdown",
   "id": "4141db39",
   "metadata": {},
   "source": [
    "With a correlation coefficient of 0.45161523947903287, it suggests that there is a moderate positive correlation between the two variables. This means that as the mean AoA rating increases, the standard deviation of the rating also tends to increase, indicating that the rating is less consistent with increasing age."
   ]
  },
  {
   "cell_type": "code",
   "execution_count": 39,
   "id": "da46241b",
   "metadata": {},
   "outputs": [
    {
     "data": {
      "text/html": [
       "<div>\n",
       "<style scoped>\n",
       "    .dataframe tbody tr th:only-of-type {\n",
       "        vertical-align: middle;\n",
       "    }\n",
       "\n",
       "    .dataframe tbody tr th {\n",
       "        vertical-align: top;\n",
       "    }\n",
       "\n",
       "    .dataframe thead th {\n",
       "        text-align: right;\n",
       "    }\n",
       "</style>\n",
       "<table border=\"1\" class=\"dataframe\">\n",
       "  <thead>\n",
       "    <tr style=\"text-align: right;\">\n",
       "      <th></th>\n",
       "      <th>Word</th>\n",
       "      <th>Rating.Mean</th>\n",
       "      <th>Rating.SD</th>\n",
       "    </tr>\n",
       "  </thead>\n",
       "  <tbody>\n",
       "    <tr>\n",
       "      <th>7</th>\n",
       "      <td>abase</td>\n",
       "      <td>14.570000</td>\n",
       "      <td>4.29</td>\n",
       "    </tr>\n",
       "    <tr>\n",
       "      <th>8</th>\n",
       "      <td>abasement</td>\n",
       "      <td>15.130969</td>\n",
       "      <td>5.37</td>\n",
       "    </tr>\n",
       "    <tr>\n",
       "      <th>9</th>\n",
       "      <td>abate</td>\n",
       "      <td>14.440000</td>\n",
       "      <td>3.57</td>\n",
       "    </tr>\n",
       "    <tr>\n",
       "      <th>10</th>\n",
       "      <td>abatement</td>\n",
       "      <td>15.120000</td>\n",
       "      <td>2.78</td>\n",
       "    </tr>\n",
       "    <tr>\n",
       "      <th>11</th>\n",
       "      <td>abattoir</td>\n",
       "      <td>15.170000</td>\n",
       "      <td>2.71</td>\n",
       "    </tr>\n",
       "    <tr>\n",
       "      <th>...</th>\n",
       "      <td>...</td>\n",
       "      <td>...</td>\n",
       "      <td>...</td>\n",
       "    </tr>\n",
       "    <tr>\n",
       "      <th>31107</th>\n",
       "      <td>zither</td>\n",
       "      <td>17.500000</td>\n",
       "      <td>4.09</td>\n",
       "    </tr>\n",
       "    <tr>\n",
       "      <th>31109</th>\n",
       "      <td>zloty</td>\n",
       "      <td>15.670000</td>\n",
       "      <td>2.66</td>\n",
       "    </tr>\n",
       "    <tr>\n",
       "      <th>31111</th>\n",
       "      <td>zodiacal</td>\n",
       "      <td>15.280000</td>\n",
       "      <td>3.83</td>\n",
       "    </tr>\n",
       "    <tr>\n",
       "      <th>31122</th>\n",
       "      <td>zwieback</td>\n",
       "      <td>16.100000</td>\n",
       "      <td>4.09</td>\n",
       "    </tr>\n",
       "    <tr>\n",
       "      <th>31123</th>\n",
       "      <td>zygote</td>\n",
       "      <td>15.380000</td>\n",
       "      <td>2.96</td>\n",
       "    </tr>\n",
       "  </tbody>\n",
       "</table>\n",
       "<p>7762 rows × 3 columns</p>\n",
       "</div>"
      ],
      "text/plain": [
       "            Word  Rating.Mean  Rating.SD\n",
       "7          abase    14.570000       4.29\n",
       "8      abasement    15.130969       5.37\n",
       "9          abate    14.440000       3.57\n",
       "10     abatement    15.120000       2.78\n",
       "11      abattoir    15.170000       2.71\n",
       "...          ...          ...        ...\n",
       "31107     zither    17.500000       4.09\n",
       "31109      zloty    15.670000       2.66\n",
       "31111   zodiacal    15.280000       3.83\n",
       "31122   zwieback    16.100000       4.09\n",
       "31123     zygote    15.380000       2.96\n",
       "\n",
       "[7762 rows x 3 columns]"
      ]
     },
     "execution_count": 39,
     "metadata": {},
     "output_type": "execute_result"
    }
   ],
   "source": [
    "# Examining the words that are outliers in terms of AoA ratings\n",
    "\n",
    "# use the column \"Rating.Mean\" and \"Rating.SD\" to identify words that have extremely high or low AoA ratings compared to the rest of the data\n",
    "data[data['Rating.Mean'] > 13.2][['Word','Rating.Mean','Rating.SD']]"
   ]
  },
  {
   "cell_type": "code",
   "execution_count": 40,
   "id": "13121dda",
   "metadata": {},
   "outputs": [
    {
     "data": {
      "text/html": [
       "<div>\n",
       "<style scoped>\n",
       "    .dataframe tbody tr th:only-of-type {\n",
       "        vertical-align: middle;\n",
       "    }\n",
       "\n",
       "    .dataframe tbody tr th {\n",
       "        vertical-align: top;\n",
       "    }\n",
       "\n",
       "    .dataframe thead th {\n",
       "        text-align: right;\n",
       "    }\n",
       "</style>\n",
       "<table border=\"1\" class=\"dataframe\">\n",
       "  <thead>\n",
       "    <tr style=\"text-align: right;\">\n",
       "      <th></th>\n",
       "      <th>Word</th>\n",
       "      <th>Rating.Mean</th>\n",
       "      <th>Rating.SD</th>\n",
       "    </tr>\n",
       "  </thead>\n",
       "  <tbody>\n",
       "    <tr>\n",
       "      <th>0</th>\n",
       "      <td>a</td>\n",
       "      <td>2.893384</td>\n",
       "      <td>1.21</td>\n",
       "    </tr>\n",
       "    <tr>\n",
       "      <th>2</th>\n",
       "      <td>abacus</td>\n",
       "      <td>8.690000</td>\n",
       "      <td>3.77</td>\n",
       "    </tr>\n",
       "    <tr>\n",
       "      <th>4</th>\n",
       "      <td>abandon</td>\n",
       "      <td>8.320000</td>\n",
       "      <td>2.75</td>\n",
       "    </tr>\n",
       "    <tr>\n",
       "      <th>21</th>\n",
       "      <td>abdomen</td>\n",
       "      <td>8.610000</td>\n",
       "      <td>2.25</td>\n",
       "    </tr>\n",
       "    <tr>\n",
       "      <th>36</th>\n",
       "      <td>ability</td>\n",
       "      <td>8.840000</td>\n",
       "      <td>3.22</td>\n",
       "    </tr>\n",
       "    <tr>\n",
       "      <th>...</th>\n",
       "      <td>...</td>\n",
       "      <td>...</td>\n",
       "      <td>...</td>\n",
       "    </tr>\n",
       "    <tr>\n",
       "      <th>31112</th>\n",
       "      <td>zombie</td>\n",
       "      <td>7.680000</td>\n",
       "      <td>2.58</td>\n",
       "    </tr>\n",
       "    <tr>\n",
       "      <th>31113</th>\n",
       "      <td>zone</td>\n",
       "      <td>8.790000</td>\n",
       "      <td>2.55</td>\n",
       "    </tr>\n",
       "    <tr>\n",
       "      <th>31115</th>\n",
       "      <td>zoo</td>\n",
       "      <td>3.750000</td>\n",
       "      <td>1.12</td>\n",
       "    </tr>\n",
       "    <tr>\n",
       "      <th>31119</th>\n",
       "      <td>zoom</td>\n",
       "      <td>8.570000</td>\n",
       "      <td>3.30</td>\n",
       "    </tr>\n",
       "    <tr>\n",
       "      <th>31121</th>\n",
       "      <td>zucchini</td>\n",
       "      <td>6.790000</td>\n",
       "      <td>3.82</td>\n",
       "    </tr>\n",
       "  </tbody>\n",
       "</table>\n",
       "<p>7740 rows × 3 columns</p>\n",
       "</div>"
      ],
      "text/plain": [
       "           Word  Rating.Mean  Rating.SD\n",
       "0             a     2.893384       1.21\n",
       "2        abacus     8.690000       3.77\n",
       "4       abandon     8.320000       2.75\n",
       "21      abdomen     8.610000       2.25\n",
       "36      ability     8.840000       3.22\n",
       "...         ...          ...        ...\n",
       "31112    zombie     7.680000       2.58\n",
       "31113      zone     8.790000       2.55\n",
       "31115       zoo     3.750000       1.12\n",
       "31119      zoom     8.570000       3.30\n",
       "31121  zucchini     6.790000       3.82\n",
       "\n",
       "[7740 rows x 3 columns]"
      ]
     },
     "execution_count": 40,
     "metadata": {},
     "output_type": "execute_result"
    }
   ],
   "source": [
    "data[data['Rating.Mean'] < 8.94][['Word','Rating.Mean','Rating.SD']]"
   ]
  },
  {
   "cell_type": "markdown",
   "id": "291c4ddf",
   "metadata": {},
   "source": [
    "### Explore the column Freq_pm"
   ]
  },
  {
   "cell_type": "markdown",
   "id": "ec2f8c16",
   "metadata": {},
   "source": [
    "#### Comparing the AoA ratings for high-frequency words vs. low-frequency words in the column Freq_pm"
   ]
  },
  {
   "cell_type": "code",
   "execution_count": 9,
   "id": "d7af6e37",
   "metadata": {
    "scrolled": true
   },
   "outputs": [
    {
     "data": {
      "text/html": [
       "<div>\n",
       "<style scoped>\n",
       "    .dataframe tbody tr th:only-of-type {\n",
       "        vertical-align: middle;\n",
       "    }\n",
       "\n",
       "    .dataframe tbody tr th {\n",
       "        vertical-align: top;\n",
       "    }\n",
       "\n",
       "    .dataframe thead th {\n",
       "        text-align: right;\n",
       "    }\n",
       "</style>\n",
       "<table border=\"1\" class=\"dataframe\">\n",
       "  <thead>\n",
       "    <tr style=\"text-align: right;\">\n",
       "      <th></th>\n",
       "      <th>Word</th>\n",
       "      <th>OccurTotal</th>\n",
       "      <th>OccurNum</th>\n",
       "      <th>Freq_pm</th>\n",
       "      <th>Rating.Mean</th>\n",
       "      <th>Rating.SD</th>\n",
       "      <th>Dunno</th>\n",
       "      <th>Word length</th>\n",
       "      <th>Freq_pm_cat</th>\n",
       "    </tr>\n",
       "  </thead>\n",
       "  <tbody>\n",
       "    <tr>\n",
       "      <th>0</th>\n",
       "      <td>a</td>\n",
       "      <td>22</td>\n",
       "      <td>22</td>\n",
       "      <td>20415.274510</td>\n",
       "      <td>2.893384</td>\n",
       "      <td>1.21</td>\n",
       "      <td>1.000000</td>\n",
       "      <td>1.0</td>\n",
       "      <td>10000-100000</td>\n",
       "    </tr>\n",
       "    <tr>\n",
       "      <th>1</th>\n",
       "      <td>aardvark</td>\n",
       "      <td>18</td>\n",
       "      <td>18</td>\n",
       "      <td>0.411765</td>\n",
       "      <td>9.890000</td>\n",
       "      <td>3.66</td>\n",
       "      <td>1.000000</td>\n",
       "      <td>8.0</td>\n",
       "      <td>0-1</td>\n",
       "    </tr>\n",
       "    <tr>\n",
       "      <th>2</th>\n",
       "      <td>abacus</td>\n",
       "      <td>20</td>\n",
       "      <td>13</td>\n",
       "      <td>0.235294</td>\n",
       "      <td>8.690000</td>\n",
       "      <td>3.77</td>\n",
       "      <td>0.650000</td>\n",
       "      <td>6.0</td>\n",
       "      <td>0-1</td>\n",
       "    </tr>\n",
       "    <tr>\n",
       "      <th>3</th>\n",
       "      <td>abalone</td>\n",
       "      <td>18</td>\n",
       "      <td>13</td>\n",
       "      <td>0.509804</td>\n",
       "      <td>12.230000</td>\n",
       "      <td>3.54</td>\n",
       "      <td>0.722222</td>\n",
       "      <td>7.0</td>\n",
       "      <td>0-1</td>\n",
       "    </tr>\n",
       "    <tr>\n",
       "      <th>4</th>\n",
       "      <td>abandon</td>\n",
       "      <td>19</td>\n",
       "      <td>19</td>\n",
       "      <td>8.098039</td>\n",
       "      <td>8.320000</td>\n",
       "      <td>2.75</td>\n",
       "      <td>1.000000</td>\n",
       "      <td>7.0</td>\n",
       "      <td>1-100</td>\n",
       "    </tr>\n",
       "  </tbody>\n",
       "</table>\n",
       "</div>"
      ],
      "text/plain": [
       "       Word  OccurTotal  OccurNum       Freq_pm  Rating.Mean  Rating.SD  \\\n",
       "0         a          22        22  20415.274510     2.893384       1.21   \n",
       "1  aardvark          18        18      0.411765     9.890000       3.66   \n",
       "2    abacus          20        13      0.235294     8.690000       3.77   \n",
       "3   abalone          18        13      0.509804    12.230000       3.54   \n",
       "4   abandon          19        19      8.098039     8.320000       2.75   \n",
       "\n",
       "      Dunno  Word length   Freq_pm_cat  \n",
       "0  1.000000          1.0  10000-100000  \n",
       "1  1.000000          8.0           0-1  \n",
       "2  0.650000          6.0           0-1  \n",
       "3  0.722222          7.0           0-1  \n",
       "4  1.000000          7.0         1-100  "
      ]
     },
     "execution_count": 9,
     "metadata": {},
     "output_type": "execute_result"
    }
   ],
   "source": [
    "# Sorting the dataset by the \"Freq_pm\" column \n",
    "\n",
    "# create a new column called \"Freq_pm_cat\" to categorize the frequency of the word in the SUBTLEX-US corpus\n",
    "data['Freq_pm_cat'] = pd.cut(data['Freq_pm'], bins=[0, 1, 100, 1000, 10000, 100000], labels=['0-1', '1-100', '100-1000', '1000-10000', '10000-100000'])\n",
    "# show the new top 5 rows of the data\n",
    "data.head()"
   ]
  },
  {
   "cell_type": "code",
   "execution_count": 320,
   "id": "1ae87028",
   "metadata": {
    "scrolled": false
   },
   "outputs": [
    {
     "data": {
      "text/plain": [
       "0-1             20612\n",
       "1-100            9182\n",
       "100-1000          481\n",
       "1000-10000        103\n",
       "10000-100000        9\n",
       "Name: Freq_pm_cat, dtype: int64"
      ]
     },
     "execution_count": 320,
     "metadata": {},
     "output_type": "execute_result"
    }
   ],
   "source": [
    "# show the frequency of the word in the column \"Freq_pm_cat\"\n",
    "data['Freq_pm_cat'].value_counts()"
   ]
  },
  {
   "cell_type": "markdown",
   "id": "18a74067",
   "metadata": {},
   "source": [
    "The outcome provided is the count of observations for different categories of word frequency counts from the SUBTLEX-US corpus. The categories are defined as \"0-1\", \"1-100\", \"100-1000\", \"1000-10000\", and \"10000-100000\" based on the frequency of the word in the corpus. The count of observations for each category are 20612, 9182, 481, 103, and 9 respectively.\n",
    "\n",
    "This suggests that the data used to calculate these statistics was likely a large dataset of words, and the words are grouped into different frequency categories. The results show that the majority of the words in the dataset fall into the category of \"0-1\" with 20612 observations, while the category of \"10000-100000\" has only 9 observations. This indicates that the majority of the words in the dataset are less frequent, and only a small number of words are more frequent."
   ]
  },
  {
   "cell_type": "code",
   "execution_count": 323,
   "id": "989ad3fd",
   "metadata": {
    "scrolled": true
   },
   "outputs": [
    {
     "data": {
      "text/plain": [
       "<AxesSubplot:xlabel='Freq_pm_cat', ylabel='Rating.Mean'>"
      ]
     },
     "execution_count": 323,
     "metadata": {},
     "output_type": "execute_result"
    },
    {
     "data": {
      "image/png": "[encoded data removed]",
      "text/plain": [
       "<Figure size 432x288 with 1 Axes>"
      ]
     },
     "metadata": {
      "needs_background": "light"
     },
     "output_type": "display_data"
    }
   ],
   "source": [
    "# compare the AoA ratings for the most frequent words vs. the least frequent words.\n",
    "\n",
    "# plot the boxplot of the column \"Rating.Mean\" and the column \"Freq_pm_cat\"\n",
    "sns.boxplot(x=\"Freq_pm_cat\", y=\"Rating.Mean\", data=data)"
   ]
  },
  {
   "cell_type": "code",
   "execution_count": 322,
   "id": "d23bbada",
   "metadata": {
    "scrolled": true
   },
   "outputs": [
    {
     "data": {
      "text/plain": [
       "Freq_pm_cat\n",
       "0-1             12.055604\n",
       "1-100            8.817382\n",
       "100-1000         5.270110\n",
       "1000-10000       4.494640\n",
       "10000-100000     4.112443\n",
       "Name: Rating.Mean, dtype: float64"
      ]
     },
     "execution_count": 322,
     "metadata": {},
     "output_type": "execute_result"
    }
   ],
   "source": [
    "# show The mean AoA rating in years of age for different frequency of the word in the Freq_pm_cat column\n",
    "data.groupby('Freq_pm_cat')['Rating.Mean'].mean()"
   ]
  },
  {
   "cell_type": "markdown",
   "id": "b3432bd5",
   "metadata": {},
   "source": [
    "In conclusion, the outcome provided is the mean Age of Acquisition (AoA) rating in years of age for different categories of word frequency counts from the SUBTLEX-US corpus. The results show that the mean AoA rating decreases as the frequency of the word in the corpus increases. Words in the category of \"0-1\" have the highest mean AoA rating of 12.055604 years old, while words in the category of \"10000-100000\" have the lowest mean AoA rating of 4.112443 years old. This indicates that words that are less frequent in the corpus tend to be acquired at a later age than words that are more frequent. Furthermore, these results also provide insight into whether there is a correlation between word frequency and AoA, as the mean AoA rating decreases as the frequency of the word in the corpus increases."
   ]
  },
  {
   "cell_type": "markdown",
   "id": "9e8dbd2e",
   "metadata": {},
   "source": [
    "#### Examine the relationship between word frequency and the standard deviation of AoA"
   ]
  },
  {
   "cell_type": "code",
   "execution_count": 352,
   "id": "45536760",
   "metadata": {
    "scrolled": true
   },
   "outputs": [
    {
     "data": {
      "text/html": [
       "<div>\n",
       "<style scoped>\n",
       "    .dataframe tbody tr th:only-of-type {\n",
       "        vertical-align: middle;\n",
       "    }\n",
       "\n",
       "    .dataframe tbody tr th {\n",
       "        vertical-align: top;\n",
       "    }\n",
       "\n",
       "    .dataframe thead th {\n",
       "        text-align: right;\n",
       "    }\n",
       "</style>\n",
       "<table border=\"1\" class=\"dataframe\">\n",
       "  <thead>\n",
       "    <tr style=\"text-align: right;\">\n",
       "      <th></th>\n",
       "      <th>count</th>\n",
       "      <th>mean</th>\n",
       "      <th>std</th>\n",
       "      <th>min</th>\n",
       "      <th>25%</th>\n",
       "      <th>50%</th>\n",
       "      <th>75%</th>\n",
       "      <th>max</th>\n",
       "    </tr>\n",
       "    <tr>\n",
       "      <th>Freq_pm_cat</th>\n",
       "      <th></th>\n",
       "      <th></th>\n",
       "      <th></th>\n",
       "      <th></th>\n",
       "      <th></th>\n",
       "      <th></th>\n",
       "      <th></th>\n",
       "      <th></th>\n",
       "    </tr>\n",
       "  </thead>\n",
       "  <tbody>\n",
       "    <tr>\n",
       "      <th>0-1</th>\n",
       "      <td>20593.0</td>\n",
       "      <td>3.386560</td>\n",
       "      <td>0.866951</td>\n",
       "      <td>0.00</td>\n",
       "      <td>2.790</td>\n",
       "      <td>3.30</td>\n",
       "      <td>3.90</td>\n",
       "      <td>9.90</td>\n",
       "    </tr>\n",
       "    <tr>\n",
       "      <th>1-100</th>\n",
       "      <td>9182.0</td>\n",
       "      <td>2.824377</td>\n",
       "      <td>0.805359</td>\n",
       "      <td>0.59</td>\n",
       "      <td>2.260</td>\n",
       "      <td>2.76</td>\n",
       "      <td>3.30</td>\n",
       "      <td>6.93</td>\n",
       "    </tr>\n",
       "    <tr>\n",
       "      <th>100-1000</th>\n",
       "      <td>481.0</td>\n",
       "      <td>2.014283</td>\n",
       "      <td>0.538726</td>\n",
       "      <td>0.76</td>\n",
       "      <td>1.650</td>\n",
       "      <td>1.93</td>\n",
       "      <td>2.35</td>\n",
       "      <td>3.93</td>\n",
       "    </tr>\n",
       "    <tr>\n",
       "      <th>1000-10000</th>\n",
       "      <td>103.0</td>\n",
       "      <td>1.900388</td>\n",
       "      <td>0.511060</td>\n",
       "      <td>1.07</td>\n",
       "      <td>1.555</td>\n",
       "      <td>1.86</td>\n",
       "      <td>2.09</td>\n",
       "      <td>4.08</td>\n",
       "    </tr>\n",
       "    <tr>\n",
       "      <th>10000-100000</th>\n",
       "      <td>9.0</td>\n",
       "      <td>1.820000</td>\n",
       "      <td>0.435144</td>\n",
       "      <td>1.21</td>\n",
       "      <td>1.390</td>\n",
       "      <td>1.94</td>\n",
       "      <td>2.06</td>\n",
       "      <td>2.36</td>\n",
       "    </tr>\n",
       "  </tbody>\n",
       "</table>\n",
       "</div>"
      ],
      "text/plain": [
       "                count      mean       std   min    25%   50%   75%   max\n",
       "Freq_pm_cat                                                             \n",
       "0-1           20593.0  3.386560  0.866951  0.00  2.790  3.30  3.90  9.90\n",
       "1-100          9182.0  2.824377  0.805359  0.59  2.260  2.76  3.30  6.93\n",
       "100-1000        481.0  2.014283  0.538726  0.76  1.650  1.93  2.35  3.93\n",
       "1000-10000      103.0  1.900388  0.511060  1.07  1.555  1.86  2.09  4.08\n",
       "10000-100000      9.0  1.820000  0.435144  1.21  1.390  1.94  2.06  2.36"
      ]
     },
     "execution_count": 352,
     "metadata": {},
     "output_type": "execute_result"
    }
   ],
   "source": [
    "# compare the standard deviation of AoA ratings in Rating.SD \n",
    "# for different frequency categories in Freq_pm_cat (categorize the frequency of the word in the SUBTLEX-US corpus)\n",
    "data.groupby('Freq_pm_cat')['Rating.SD'].describe()"
   ]
  },
  {
   "cell_type": "markdown",
   "id": "cfb3aeb6",
   "metadata": {},
   "source": [
    "The outcome provided is the summary statistics for the standard deviation (Rating.SD) of Age of Acquisition (AoA) ratings for different categories of word frequency counts from the SUBTLEX-US corpus. This suggests that the data used to calculate these statistics was likely a large dataset of AoA ratings for a set of words, and the words are grouped into different frequency categories. The results show that the standard deviation of AoA ratings decreases as the frequency of the word in the corpus increases. Words in the category of \"0-1\" have the highest standard deviation of AoA rating of 0.866951 years old, while words in the category of \"10000-100000\" have the lowest standard deviation of AoA rating of 0.435144 years old. This indicates that words that are less frequent in the corpus tend to have a greater variability in their AoA ratings than words that are more frequent."
   ]
  },
  {
   "cell_type": "code",
   "execution_count": 357,
   "id": "2a435074",
   "metadata": {
    "scrolled": true
   },
   "outputs": [
    {
     "data": {
      "text/plain": [
       "<AxesSubplot:title={'center':'Rating.SD'}, xlabel='Freq_pm_cat'>"
      ]
     },
     "execution_count": 357,
     "metadata": {},
     "output_type": "execute_result"
    },
    {
     "data": {
      "image/png": "[encoded data removed]",
      "text/plain": [
       "<Figure size 432x288 with 1 Axes>"
      ]
     },
     "metadata": {
      "needs_background": "light"
     },
     "output_type": "display_data"
    }
   ],
   "source": [
    "# visualize the relationship between the two variables\n",
    "data.boxplot(column='Rating.SD', by='Freq_pm_cat')"
   ]
  }
 ],
 "metadata": {
  "kernelspec": {
   "display_name": "Python 3 (ipykernel)",
   "language": "python",
   "name": "python3"
  },
  "language_info": {
   "codemirror_mode": {
    "name": "ipython",
    "version": 3
   },
   "file_extension": ".py",
   "mimetype": "text/x-python",
   "name": "python",
   "nbconvert_exporter": "python",
   "pygments_lexer": "ipython3",
   "version": "3.9.12"
  },
  "toc": {
   "base_numbering": 1,
   "nav_menu": {},
   "number_sections": true,
   "sideBar": true,
   "skip_h1_title": false,
   "title_cell": "Table of Contents",
   "title_sidebar": "Contents",
   "toc_cell": true,
   "toc_position": {
    "height": "46.8229px",
    "left": "200.998px",
    "top": "134.113px",
    "width": "326.65px"
   },
   "toc_section_display": true,
   "toc_window_display": true
  },
  "varInspector": {
   "cols": {
    "lenName": 16,
    "lenType": 16,
    "lenVar": 40
   },
   "kernels_config": {
    "python": {
     "delete_cmd_postfix": "",
     "delete_cmd_prefix": "del ",
     "library": "var_list.py",
     "varRefreshCmd": "print(var_dic_list())"
    },
    "r": {
     "delete_cmd_postfix": ") ",
     "delete_cmd_prefix": "rm(",
     "library": "var_list.r",
     "varRefreshCmd": "cat(var_dic_list()) "
    }
   },
   "types_to_exclude": [
    "module",
    "function",
    "builtin_function_or_method",
    "instance",
    "_Feature"
   ],
   "window_display": false
  }
 },
 "nbformat": 4,
 "nbformat_minor": 5
}
